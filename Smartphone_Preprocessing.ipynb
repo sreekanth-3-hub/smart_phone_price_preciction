{
 "cells": [
  {
   "attachments": {},
   "cell_type": "markdown",
   "metadata": {},
   "source": [
    "<h1 style=\"font-family:verdana;\"> <center>Smart Phone Price Prediction</center> </h1>\n",
    "<p><center style=\"color:#159364; font-family:cursive;\">Preprocessing </center></p>\n",
    "<center style=\"color:#159364; font-family:cursive;\">Peace </center></p>\n",
    "\n",
    "\n",
    "***"
   ]
  },
  {
   "attachments": {},
   "cell_type": "markdown",
   "metadata": {},
   "source": [
    "<div style='color: #216969;\n",
    "           background-color: #EAF6F6;\n",
    "           font-size: 200%;\n",
    "           border-radius:15px;\n",
    "           text-align:center;\n",
    "           font-weight:600;\n",
    "           border-style: solid;\n",
    "           border-color: dark green;\n",
    "           font-family: \"Verdana\";'>\n",
    "🧹Data Preprocessing<a class=\"anchor\" id=\"3\"></a> "
   ]
  },
  {
   "cell_type": "code",
   "execution_count": 201,
   "metadata": {},
   "outputs": [],
   "source": [
    "#importing the necessary packages\n",
    "import pandas as pd\n",
    "import numpy as np\n",
    "import seaborn as sns\n",
    "import matplotlib.pyplot as plt\n",
    "# ignore the warnings \n",
    "import warnings\n",
    "warnings.filterwarnings(\"ignore\")\n"
   ]
  },
  {
   "cell_type": "code",
   "execution_count": 202,
   "metadata": {},
   "outputs": [
    {
     "data": {
      "text/html": [
       "<div>\n",
       "<style scoped>\n",
       "    .dataframe tbody tr th:only-of-type {\n",
       "        vertical-align: middle;\n",
       "    }\n",
       "\n",
       "    .dataframe tbody tr th {\n",
       "        vertical-align: top;\n",
       "    }\n",
       "\n",
       "    .dataframe thead th {\n",
       "        text-align: right;\n",
       "    }\n",
       "</style>\n",
       "<table border=\"1\" class=\"dataframe\">\n",
       "  <thead>\n",
       "    <tr style=\"text-align: right;\">\n",
       "      <th></th>\n",
       "      <th>Model</th>\n",
       "      <th>Stars</th>\n",
       "      <th>Num_of_Ratings</th>\n",
       "      <th>Reviews</th>\n",
       "      <th>Ram</th>\n",
       "      <th>Storage</th>\n",
       "      <th>Expandable</th>\n",
       "      <th>Display</th>\n",
       "      <th>Camera</th>\n",
       "      <th>Battery</th>\n",
       "      <th>Processor</th>\n",
       "      <th>Warranty</th>\n",
       "      <th>Price</th>\n",
       "    </tr>\n",
       "  </thead>\n",
       "  <tbody>\n",
       "    <tr>\n",
       "      <th>0</th>\n",
       "      <td>SAMSUNG Galaxy F13 (Waterfall Blue, 64 GB)</td>\n",
       "      <td>4.4</td>\n",
       "      <td>1,26,250 Ratings</td>\n",
       "      <td>7,344 Reviews</td>\n",
       "      <td>4 GB RAM</td>\n",
       "      <td>64 GB ROM</td>\n",
       "      <td>Expandable Upto 1 TB</td>\n",
       "      <td>16.76 cm (6.6 inch) Full HD+ Display</td>\n",
       "      <td>50MP + 5MP + 2MP | 8MP Front Camera</td>\n",
       "      <td>6000 mAh Lithium Ion Battery</td>\n",
       "      <td>Exynos 850 Processor</td>\n",
       "      <td>NaN</td>\n",
       "      <td>₹9,699</td>\n",
       "    </tr>\n",
       "    <tr>\n",
       "      <th>1</th>\n",
       "      <td>POCO C50 (Country Green, 32 GB)</td>\n",
       "      <td>4.4</td>\n",
       "      <td>3,204 Ratings</td>\n",
       "      <td>151 Reviews</td>\n",
       "      <td>2 GB RAM</td>\n",
       "      <td>32 GB ROM</td>\n",
       "      <td>Expandable Upto 512 GB</td>\n",
       "      <td>16.56 cm (6.52 inch) HD+ Display</td>\n",
       "      <td>8MP Dual Camera | 5MP Front Camera</td>\n",
       "      <td>5000 mAh Lithium Polymer Battery</td>\n",
       "      <td>Mediatek Helio A22 Processor, Upto 2.0 GHz Pro...</td>\n",
       "      <td>NaN</td>\n",
       "      <td>₹5,749</td>\n",
       "    </tr>\n",
       "    <tr>\n",
       "      <th>2</th>\n",
       "      <td>POCO C50 (Royal Blue, 32 GB)</td>\n",
       "      <td>4.4</td>\n",
       "      <td>3,204 Ratings</td>\n",
       "      <td>151 Reviews</td>\n",
       "      <td>2 GB RAM</td>\n",
       "      <td>32 GB ROM</td>\n",
       "      <td>Expandable Upto 512 GB</td>\n",
       "      <td>16.56 cm (6.52 inch) HD+ Display</td>\n",
       "      <td>8MP Dual Camera | 5MP Front Camera</td>\n",
       "      <td>5000 mAh Lithium Polymer Battery</td>\n",
       "      <td>Mediatek Helio A22 Processor, Upto 2.0 GHz Pro...</td>\n",
       "      <td>NaN</td>\n",
       "      <td>₹5,749</td>\n",
       "    </tr>\n",
       "    <tr>\n",
       "      <th>3</th>\n",
       "      <td>REDMI 10 (Caribbean Green, 64 GB)</td>\n",
       "      <td>4.3</td>\n",
       "      <td>1,93,536 Ratings</td>\n",
       "      <td>12,428 Reviews</td>\n",
       "      <td>4 GB RAM</td>\n",
       "      <td>64 GB ROM</td>\n",
       "      <td>Expandable Upto 1 TB</td>\n",
       "      <td>17.02 cm (6.7 inch) HD+ Display</td>\n",
       "      <td>50MP + 2MP | 5MP Front Camera</td>\n",
       "      <td>6000 mAh Lithium Polymer Battery</td>\n",
       "      <td>Qualcomm Snapdragon 680 Processor</td>\n",
       "      <td>NaN</td>\n",
       "      <td>₹9,299</td>\n",
       "    </tr>\n",
       "    <tr>\n",
       "      <th>4</th>\n",
       "      <td>REDMI 10 (Pacific Blue, 64 GB)</td>\n",
       "      <td>4.3</td>\n",
       "      <td>1,93,536 Ratings</td>\n",
       "      <td>12,428 Reviews</td>\n",
       "      <td>4 GB RAM</td>\n",
       "      <td>64 GB ROM</td>\n",
       "      <td>Expandable Upto 1 TB</td>\n",
       "      <td>17.02 cm (6.7 inch) HD+ Display</td>\n",
       "      <td>50MP + 2MP | 5MP Front Camera</td>\n",
       "      <td>6000 mAh Lithium Polymer Battery</td>\n",
       "      <td>Qualcomm Snapdragon 680 Processor</td>\n",
       "      <td>NaN</td>\n",
       "      <td>₹9,299</td>\n",
       "    </tr>\n",
       "  </tbody>\n",
       "</table>\n",
       "</div>"
      ],
      "text/plain": [
       "                                        Model  Stars    Num_of_Ratings  \\\n",
       "0  SAMSUNG Galaxy F13 (Waterfall Blue, 64 GB)    4.4  1,26,250 Ratings   \n",
       "1             POCO C50 (Country Green, 32 GB)    4.4     3,204 Ratings   \n",
       "2                POCO C50 (Royal Blue, 32 GB)    4.4     3,204 Ratings   \n",
       "3           REDMI 10 (Caribbean Green, 64 GB)    4.3  1,93,536 Ratings   \n",
       "4              REDMI 10 (Pacific Blue, 64 GB)    4.3  1,93,536 Ratings   \n",
       "\n",
       "          Reviews        Ram    Storage              Expandable  \\\n",
       "0   7,344 Reviews  4 GB RAM   64 GB ROM    Expandable Upto 1 TB   \n",
       "1     151 Reviews  2 GB RAM   32 GB ROM  Expandable Upto 512 GB   \n",
       "2     151 Reviews  2 GB RAM   32 GB ROM  Expandable Upto 512 GB   \n",
       "3  12,428 Reviews  4 GB RAM   64 GB ROM    Expandable Upto 1 TB   \n",
       "4  12,428 Reviews  4 GB RAM   64 GB ROM    Expandable Upto 1 TB   \n",
       "\n",
       "                                Display                               Camera  \\\n",
       "0  16.76 cm (6.6 inch) Full HD+ Display  50MP + 5MP + 2MP | 8MP Front Camera   \n",
       "1      16.56 cm (6.52 inch) HD+ Display   8MP Dual Camera | 5MP Front Camera   \n",
       "2      16.56 cm (6.52 inch) HD+ Display   8MP Dual Camera | 5MP Front Camera   \n",
       "3       17.02 cm (6.7 inch) HD+ Display        50MP + 2MP | 5MP Front Camera   \n",
       "4       17.02 cm (6.7 inch) HD+ Display        50MP + 2MP | 5MP Front Camera   \n",
       "\n",
       "                            Battery  \\\n",
       "0      6000 mAh Lithium Ion Battery   \n",
       "1  5000 mAh Lithium Polymer Battery   \n",
       "2  5000 mAh Lithium Polymer Battery   \n",
       "3  6000 mAh Lithium Polymer Battery   \n",
       "4  6000 mAh Lithium Polymer Battery   \n",
       "\n",
       "                                           Processor  Warranty   Price  \n",
       "0                               Exynos 850 Processor       NaN  ₹9,699  \n",
       "1  Mediatek Helio A22 Processor, Upto 2.0 GHz Pro...       NaN  ₹5,749  \n",
       "2  Mediatek Helio A22 Processor, Upto 2.0 GHz Pro...       NaN  ₹5,749  \n",
       "3                  Qualcomm Snapdragon 680 Processor       NaN  ₹9,299  \n",
       "4                  Qualcomm Snapdragon 680 Processor       NaN  ₹9,299  "
      ]
     },
     "execution_count": 202,
     "metadata": {},
     "output_type": "execute_result"
    }
   ],
   "source": [
    "data = pd.read_csv(r\"Flipkart_data.csv\")\n",
    "data.head()"
   ]
  },
  {
   "attachments": {},
   "cell_type": "markdown",
   "metadata": {},
   "source": [
    "<div style='color: #216969;\n",
    "           background-color: #EAF6F6;\n",
    "           font-size: 200%;\n",
    "           border-radius:15px;\n",
    "           text-align:center;\n",
    "           font-weight:600;\n",
    "           border-style: solid;\n",
    "           border-color: dark green;\n",
    "           font-family: \"Verdana\";'>\n",
    "📥Importing the Dataset<a class=\"anchor\" id=\"3\"></a> "
   ]
  },
  {
   "cell_type": "code",
   "execution_count": 203,
   "metadata": {},
   "outputs": [],
   "source": [
    "data = pd.read_csv(\"Flipkart_data.csv\")"
   ]
  },
  {
   "cell_type": "code",
   "execution_count": 204,
   "metadata": {},
   "outputs": [
    {
     "name": "stdout",
     "output_type": "stream",
     "text": [
      "Number of rows: 787\n",
      "Number of columns: 13\n"
     ]
    }
   ],
   "source": [
    "# 'shape' returns the dimensions of the data\n",
    "print('Number of rows:', data.shape[0])\n",
    "print('Number of columns:', data.shape[1])"
   ]
  },
  {
   "cell_type": "code",
   "execution_count": 205,
   "metadata": {},
   "outputs": [
    {
     "data": {
      "text/html": [
       "<div>\n",
       "<style scoped>\n",
       "    .dataframe tbody tr th:only-of-type {\n",
       "        vertical-align: middle;\n",
       "    }\n",
       "\n",
       "    .dataframe tbody tr th {\n",
       "        vertical-align: top;\n",
       "    }\n",
       "\n",
       "    .dataframe thead th {\n",
       "        text-align: right;\n",
       "    }\n",
       "</style>\n",
       "<table border=\"1\" class=\"dataframe\">\n",
       "  <thead>\n",
       "    <tr style=\"text-align: right;\">\n",
       "      <th></th>\n",
       "      <th>Total</th>\n",
       "      <th>Percentage of Missing Values</th>\n",
       "      <th>Type</th>\n",
       "    </tr>\n",
       "  </thead>\n",
       "  <tbody>\n",
       "    <tr>\n",
       "      <th>Warranty</th>\n",
       "      <td>787</td>\n",
       "      <td>100.000000</td>\n",
       "      <td>float64</td>\n",
       "    </tr>\n",
       "    <tr>\n",
       "      <th>Expandable</th>\n",
       "      <td>340</td>\n",
       "      <td>43.202033</td>\n",
       "      <td>object</td>\n",
       "    </tr>\n",
       "    <tr>\n",
       "      <th>Processor</th>\n",
       "      <td>25</td>\n",
       "      <td>3.176620</td>\n",
       "      <td>object</td>\n",
       "    </tr>\n",
       "    <tr>\n",
       "      <th>Stars</th>\n",
       "      <td>4</td>\n",
       "      <td>0.508259</td>\n",
       "      <td>float64</td>\n",
       "    </tr>\n",
       "    <tr>\n",
       "      <th>Num_of_Ratings</th>\n",
       "      <td>4</td>\n",
       "      <td>0.508259</td>\n",
       "      <td>object</td>\n",
       "    </tr>\n",
       "    <tr>\n",
       "      <th>...</th>\n",
       "      <td>...</td>\n",
       "      <td>...</td>\n",
       "      <td>...</td>\n",
       "    </tr>\n",
       "    <tr>\n",
       "      <th>Storage</th>\n",
       "      <td>0</td>\n",
       "      <td>0.000000</td>\n",
       "      <td>object</td>\n",
       "    </tr>\n",
       "    <tr>\n",
       "      <th>Display</th>\n",
       "      <td>0</td>\n",
       "      <td>0.000000</td>\n",
       "      <td>object</td>\n",
       "    </tr>\n",
       "    <tr>\n",
       "      <th>Camera</th>\n",
       "      <td>0</td>\n",
       "      <td>0.000000</td>\n",
       "      <td>object</td>\n",
       "    </tr>\n",
       "    <tr>\n",
       "      <th>Battery</th>\n",
       "      <td>0</td>\n",
       "      <td>0.000000</td>\n",
       "      <td>object</td>\n",
       "    </tr>\n",
       "    <tr>\n",
       "      <th>Price</th>\n",
       "      <td>0</td>\n",
       "      <td>0.000000</td>\n",
       "      <td>object</td>\n",
       "    </tr>\n",
       "  </tbody>\n",
       "</table>\n",
       "<p>13 rows × 3 columns</p>\n",
       "</div>"
      ],
      "text/plain": [
       "                Total  Percentage of Missing Values     Type\n",
       "Warranty          787                    100.000000  float64\n",
       "Expandable        340                     43.202033   object\n",
       "Processor          25                      3.176620   object\n",
       "Stars               4                      0.508259  float64\n",
       "Num_of_Ratings      4                      0.508259   object\n",
       "...               ...                           ...      ...\n",
       "Storage             0                      0.000000   object\n",
       "Display             0                      0.000000   object\n",
       "Camera              0                      0.000000   object\n",
       "Battery             0                      0.000000   object\n",
       "Price               0                      0.000000   object\n",
       "\n",
       "[13 rows x 3 columns]"
      ]
     },
     "execution_count": 205,
     "metadata": {},
     "output_type": "execute_result"
    }
   ],
   "source": [
    "# 'isnull().sum()' returns the number of missing values in each variable\n",
    "Total = data.isnull().sum().sort_values(ascending = False)          \n",
    "\n",
    "# calculate the percentage of missing values\n",
    "# the variable with highest percentage of missing values will appear first\n",
    "Percent = (data.isnull().sum()*100/data.isnull().count()).sort_values(ascending = False)   \n",
    "\n",
    "# concat the 'Total' and 'Percent' columns using 'concat' function\n",
    "# 'keys' is the list of column names\n",
    "# 'axis = 1' concats along the columns\n",
    "missing_data = pd.concat([Total, Percent], axis = 1, keys = ['Total', 'Percentage of Missing Values'])    \n",
    "\n",
    "# add the column containing data type of each variable\n",
    "missing_data['Type'] = data[missing_data.index].dtypes\n",
    "missing_data"
   ]
  },
  {
   "cell_type": "code",
   "execution_count": 206,
   "metadata": {},
   "outputs": [
    {
     "data": {
      "text/plain": [
       "0"
      ]
     },
     "execution_count": 206,
     "metadata": {},
     "output_type": "execute_result"
    }
   ],
   "source": [
    "data.duplicated().sum()"
   ]
  },
  {
   "cell_type": "code",
   "execution_count": 207,
   "metadata": {},
   "outputs": [
    {
     "data": {
      "image/png": "[encoded data removed]",
      "text/plain": [
       "<Figure size 640x480 with 2 Axes>"
      ]
     },
     "metadata": {},
     "output_type": "display_data"
    }
   ],
   "source": [
    "sns.heatmap(data.isnull())\n",
    "plt.show()"
   ]
  },
  {
   "attachments": {},
   "cell_type": "markdown",
   "metadata": {},
   "source": [
    "*As we can see there a few missing values in the data with no data in the `Warranty` column.*  \n",
    "*So we will eliminate the column as it will be contributing no information at all to the model*"
   ]
  },
  {
   "cell_type": "code",
   "execution_count": 208,
   "metadata": {},
   "outputs": [],
   "source": [
    "data.drop(columns=[\"Warranty\"],inplace=True)"
   ]
  },
  {
   "attachments": {},
   "cell_type": "markdown",
   "metadata": {},
   "source": [
    "*Step - 1: we take a look the price column...the values in it are in the `str` format*  \n",
    "*So we will extract the numerical values and also convert the price column to be in the `int` datatype*"
   ]
  },
  {
   "cell_type": "code",
   "execution_count": 209,
   "metadata": {},
   "outputs": [],
   "source": [
    "data['Price'] = data['Price'].str.replace('₹', '').str.replace(',', '').astype(int)"
   ]
  },
  {
   "attachments": {},
   "cell_type": "markdown",
   "metadata": {},
   "source": [
    "*Step 2: Correcting the model names:*  \n",
    "\n",
    "*As we can see some of the models have been repeated in this data on the basis of the colour variant.*    \n",
    "*I will change the model names so as to include the colour variants...and create a new column from them named*   *`Colur` while excluding the rest of the data as it is the storage which has its own separate column*"
   ]
  },
  {
   "cell_type": "code",
   "execution_count": 210,
   "metadata": {},
   "outputs": [
    {
     "data": {
      "text/html": [
       "<div>\n",
       "<style scoped>\n",
       "    .dataframe tbody tr th:only-of-type {\n",
       "        vertical-align: middle;\n",
       "    }\n",
       "\n",
       "    .dataframe tbody tr th {\n",
       "        vertical-align: top;\n",
       "    }\n",
       "\n",
       "    .dataframe thead th {\n",
       "        text-align: right;\n",
       "    }\n",
       "</style>\n",
       "<table border=\"1\" class=\"dataframe\">\n",
       "  <thead>\n",
       "    <tr style=\"text-align: right;\">\n",
       "      <th></th>\n",
       "      <th>Model</th>\n",
       "      <th>Stars</th>\n",
       "      <th>Num_of_Ratings</th>\n",
       "      <th>Reviews</th>\n",
       "      <th>Ram</th>\n",
       "      <th>Storage</th>\n",
       "      <th>Expandable</th>\n",
       "      <th>Display</th>\n",
       "      <th>Camera</th>\n",
       "      <th>Battery</th>\n",
       "      <th>Processor</th>\n",
       "      <th>Price</th>\n",
       "      <th>Color</th>\n",
       "      <th>Memory</th>\n",
       "    </tr>\n",
       "  </thead>\n",
       "  <tbody>\n",
       "    <tr>\n",
       "      <th>0</th>\n",
       "      <td>SAMSUNG Galaxy F13</td>\n",
       "      <td>4.4</td>\n",
       "      <td>1,26,250 Ratings</td>\n",
       "      <td>7,344 Reviews</td>\n",
       "      <td>4 GB RAM</td>\n",
       "      <td>64 GB ROM</td>\n",
       "      <td>Expandable Upto 1 TB</td>\n",
       "      <td>16.76 cm (6.6 inch) Full HD+ Display</td>\n",
       "      <td>50MP + 5MP + 2MP | 8MP Front Camera</td>\n",
       "      <td>6000 mAh Lithium Ion Battery</td>\n",
       "      <td>Exynos 850 Processor</td>\n",
       "      <td>9699</td>\n",
       "      <td>Waterfall Blue</td>\n",
       "      <td>64</td>\n",
       "    </tr>\n",
       "    <tr>\n",
       "      <th>1</th>\n",
       "      <td>POCO C50</td>\n",
       "      <td>4.4</td>\n",
       "      <td>3,204 Ratings</td>\n",
       "      <td>151 Reviews</td>\n",
       "      <td>2 GB RAM</td>\n",
       "      <td>32 GB ROM</td>\n",
       "      <td>Expandable Upto 512 GB</td>\n",
       "      <td>16.56 cm (6.52 inch) HD+ Display</td>\n",
       "      <td>8MP Dual Camera | 5MP Front Camera</td>\n",
       "      <td>5000 mAh Lithium Polymer Battery</td>\n",
       "      <td>Mediatek Helio A22 Processor, Upto 2.0 GHz Pro...</td>\n",
       "      <td>5749</td>\n",
       "      <td>Country Green</td>\n",
       "      <td>32</td>\n",
       "    </tr>\n",
       "    <tr>\n",
       "      <th>2</th>\n",
       "      <td>POCO C50</td>\n",
       "      <td>4.4</td>\n",
       "      <td>3,204 Ratings</td>\n",
       "      <td>151 Reviews</td>\n",
       "      <td>2 GB RAM</td>\n",
       "      <td>32 GB ROM</td>\n",
       "      <td>Expandable Upto 512 GB</td>\n",
       "      <td>16.56 cm (6.52 inch) HD+ Display</td>\n",
       "      <td>8MP Dual Camera | 5MP Front Camera</td>\n",
       "      <td>5000 mAh Lithium Polymer Battery</td>\n",
       "      <td>Mediatek Helio A22 Processor, Upto 2.0 GHz Pro...</td>\n",
       "      <td>5749</td>\n",
       "      <td>Royal Blue</td>\n",
       "      <td>32</td>\n",
       "    </tr>\n",
       "    <tr>\n",
       "      <th>3</th>\n",
       "      <td>REDMI 10</td>\n",
       "      <td>4.3</td>\n",
       "      <td>1,93,536 Ratings</td>\n",
       "      <td>12,428 Reviews</td>\n",
       "      <td>4 GB RAM</td>\n",
       "      <td>64 GB ROM</td>\n",
       "      <td>Expandable Upto 1 TB</td>\n",
       "      <td>17.02 cm (6.7 inch) HD+ Display</td>\n",
       "      <td>50MP + 2MP | 5MP Front Camera</td>\n",
       "      <td>6000 mAh Lithium Polymer Battery</td>\n",
       "      <td>Qualcomm Snapdragon 680 Processor</td>\n",
       "      <td>9299</td>\n",
       "      <td>Caribbean Green</td>\n",
       "      <td>64</td>\n",
       "    </tr>\n",
       "    <tr>\n",
       "      <th>4</th>\n",
       "      <td>REDMI 10</td>\n",
       "      <td>4.3</td>\n",
       "      <td>1,93,536 Ratings</td>\n",
       "      <td>12,428 Reviews</td>\n",
       "      <td>4 GB RAM</td>\n",
       "      <td>64 GB ROM</td>\n",
       "      <td>Expandable Upto 1 TB</td>\n",
       "      <td>17.02 cm (6.7 inch) HD+ Display</td>\n",
       "      <td>50MP + 2MP | 5MP Front Camera</td>\n",
       "      <td>6000 mAh Lithium Polymer Battery</td>\n",
       "      <td>Qualcomm Snapdragon 680 Processor</td>\n",
       "      <td>9299</td>\n",
       "      <td>Pacific Blue</td>\n",
       "      <td>64</td>\n",
       "    </tr>\n",
       "    <tr>\n",
       "      <th>...</th>\n",
       "      <td>...</td>\n",
       "      <td>...</td>\n",
       "      <td>...</td>\n",
       "      <td>...</td>\n",
       "      <td>...</td>\n",
       "      <td>...</td>\n",
       "      <td>...</td>\n",
       "      <td>...</td>\n",
       "      <td>...</td>\n",
       "      <td>...</td>\n",
       "      <td>...</td>\n",
       "      <td>...</td>\n",
       "      <td>...</td>\n",
       "      <td>...</td>\n",
       "    </tr>\n",
       "    <tr>\n",
       "      <th>782</th>\n",
       "      <td>SAMSUNG Galaxy A04e</td>\n",
       "      <td>4.3</td>\n",
       "      <td>19 Ratings</td>\n",
       "      <td>2 Reviews</td>\n",
       "      <td>4 GB RAM</td>\n",
       "      <td>128 GB RO</td>\n",
       "      <td>Expandable Upto 1 TB</td>\n",
       "      <td>16.51 cm (6.5 inch) HD+ Display</td>\n",
       "      <td>13MP + 2MP | 5MP Front Camera</td>\n",
       "      <td>5000 mAh Lithium Ion Battery</td>\n",
       "      <td>Mediatek Helio P35 Processor</td>\n",
       "      <td>11499</td>\n",
       "      <td>Light Blue</td>\n",
       "      <td>128</td>\n",
       "    </tr>\n",
       "    <tr>\n",
       "      <th>783</th>\n",
       "      <td>Infinix Hot 11 2022</td>\n",
       "      <td>4.2</td>\n",
       "      <td>17,231 Ratings</td>\n",
       "      <td>1,402 Reviews</td>\n",
       "      <td>4 GB RAM</td>\n",
       "      <td>64 GB ROM</td>\n",
       "      <td>Expandable Upto 1 TB</td>\n",
       "      <td>17.02 cm (6.7 inch) Full HD+ Display</td>\n",
       "      <td>13 MP + 2 MP Depth Lens | 8MP Front Camera</td>\n",
       "      <td>5000 mAh Li-ion Polymer Battery</td>\n",
       "      <td>UniSoc T610 Processor</td>\n",
       "      <td>9999</td>\n",
       "      <td>Aurora Green</td>\n",
       "      <td>64</td>\n",
       "    </tr>\n",
       "    <tr>\n",
       "      <th>784</th>\n",
       "      <td>APPLE iPhone 14 Plus</td>\n",
       "      <td>4.7</td>\n",
       "      <td>4,616 Ratings</td>\n",
       "      <td>346 Reviews</td>\n",
       "      <td>512 GB RO</td>\n",
       "      <td>512 GB ROM</td>\n",
       "      <td>NaN</td>\n",
       "      <td>17.02 cm (6.7 inch) Super Retina XDR Display</td>\n",
       "      <td>12MP + 12MP | 12MP Front Camera</td>\n",
       "      <td>A15 Bionic Chip, 6 Core Processor Processor</td>\n",
       "      <td>1 Year Warranty for Phone and 6 Months Warrant...</td>\n",
       "      <td>109999</td>\n",
       "      <td>Starlight</td>\n",
       "      <td>512</td>\n",
       "    </tr>\n",
       "    <tr>\n",
       "      <th>785</th>\n",
       "      <td>REDMI A1</td>\n",
       "      <td>4.3</td>\n",
       "      <td>4,641 Ratings</td>\n",
       "      <td>230 Reviews</td>\n",
       "      <td>2 GB RAM</td>\n",
       "      <td>32 GB ROM</td>\n",
       "      <td>NaN</td>\n",
       "      <td>16.56 cm (6.52 inch) Display</td>\n",
       "      <td>5MP Rear Camera</td>\n",
       "      <td>5000 mAh Battery</td>\n",
       "      <td>12 months</td>\n",
       "      <td>6599</td>\n",
       "      <td>Light Green</td>\n",
       "      <td>32</td>\n",
       "    </tr>\n",
       "    <tr>\n",
       "      <th>786</th>\n",
       "      <td>NaN</td>\n",
       "      <td>3.9</td>\n",
       "      <td>2,274 Ratings</td>\n",
       "      <td>190 Reviews</td>\n",
       "      <td>8 MB RAM</td>\n",
       "      <td>16 MB ROM</td>\n",
       "      <td>NaN</td>\n",
       "      <td>7.11 cm (2.8 inch) QVGA Display</td>\n",
       "      <td>0.3MP Rear Camera</td>\n",
       "      <td>1150 mAh Lithium Ion Battery</td>\n",
       "      <td>Unisoc 6531F Processor</td>\n",
       "      <td>3349</td>\n",
       "      <td>NaN</td>\n",
       "      <td>NaN</td>\n",
       "    </tr>\n",
       "  </tbody>\n",
       "</table>\n",
       "<p>787 rows × 14 columns</p>\n",
       "</div>"
      ],
      "text/plain": [
       "                     Model  Stars    Num_of_Ratings         Reviews  \\\n",
       "0      SAMSUNG Galaxy F13     4.4  1,26,250 Ratings   7,344 Reviews   \n",
       "1                POCO C50     4.4     3,204 Ratings     151 Reviews   \n",
       "2                POCO C50     4.4     3,204 Ratings     151 Reviews   \n",
       "3                REDMI 10     4.3  1,93,536 Ratings  12,428 Reviews   \n",
       "4                REDMI 10     4.3  1,93,536 Ratings  12,428 Reviews   \n",
       "..                     ...    ...               ...             ...   \n",
       "782   SAMSUNG Galaxy A04e     4.3        19 Ratings       2 Reviews   \n",
       "783   Infinix Hot 11 2022     4.2    17,231 Ratings   1,402 Reviews   \n",
       "784  APPLE iPhone 14 Plus     4.7     4,616 Ratings     346 Reviews   \n",
       "785              REDMI A1     4.3     4,641 Ratings     230 Reviews   \n",
       "786                    NaN    3.9     2,274 Ratings     190 Reviews   \n",
       "\n",
       "           Ram     Storage              Expandable  \\\n",
       "0    4 GB RAM    64 GB ROM    Expandable Upto 1 TB   \n",
       "1    2 GB RAM    32 GB ROM  Expandable Upto 512 GB   \n",
       "2    2 GB RAM    32 GB ROM  Expandable Upto 512 GB   \n",
       "3    4 GB RAM    64 GB ROM    Expandable Upto 1 TB   \n",
       "4    4 GB RAM    64 GB ROM    Expandable Upto 1 TB   \n",
       "..         ...         ...                     ...   \n",
       "782  4 GB RAM    128 GB RO    Expandable Upto 1 TB   \n",
       "783  4 GB RAM    64 GB ROM    Expandable Upto 1 TB   \n",
       "784  512 GB RO  512 GB ROM                     NaN   \n",
       "785  2 GB RAM    32 GB ROM                     NaN   \n",
       "786  8 MB RAM    16 MB ROM                     NaN   \n",
       "\n",
       "                                          Display  \\\n",
       "0            16.76 cm (6.6 inch) Full HD+ Display   \n",
       "1                16.56 cm (6.52 inch) HD+ Display   \n",
       "2                16.56 cm (6.52 inch) HD+ Display   \n",
       "3                 17.02 cm (6.7 inch) HD+ Display   \n",
       "4                 17.02 cm (6.7 inch) HD+ Display   \n",
       "..                                            ...   \n",
       "782               16.51 cm (6.5 inch) HD+ Display   \n",
       "783          17.02 cm (6.7 inch) Full HD+ Display   \n",
       "784  17.02 cm (6.7 inch) Super Retina XDR Display   \n",
       "785                  16.56 cm (6.52 inch) Display   \n",
       "786               7.11 cm (2.8 inch) QVGA Display   \n",
       "\n",
       "                                         Camera  \\\n",
       "0           50MP + 5MP + 2MP | 8MP Front Camera   \n",
       "1            8MP Dual Camera | 5MP Front Camera   \n",
       "2            8MP Dual Camera | 5MP Front Camera   \n",
       "3                 50MP + 2MP | 5MP Front Camera   \n",
       "4                 50MP + 2MP | 5MP Front Camera   \n",
       "..                                          ...   \n",
       "782               13MP + 2MP | 5MP Front Camera   \n",
       "783  13 MP + 2 MP Depth Lens | 8MP Front Camera   \n",
       "784             12MP + 12MP | 12MP Front Camera   \n",
       "785                             5MP Rear Camera   \n",
       "786                           0.3MP Rear Camera   \n",
       "\n",
       "                                         Battery  \\\n",
       "0                   6000 mAh Lithium Ion Battery   \n",
       "1               5000 mAh Lithium Polymer Battery   \n",
       "2               5000 mAh Lithium Polymer Battery   \n",
       "3               6000 mAh Lithium Polymer Battery   \n",
       "4               6000 mAh Lithium Polymer Battery   \n",
       "..                                           ...   \n",
       "782                 5000 mAh Lithium Ion Battery   \n",
       "783              5000 mAh Li-ion Polymer Battery   \n",
       "784  A15 Bionic Chip, 6 Core Processor Processor   \n",
       "785                             5000 mAh Battery   \n",
       "786                 1150 mAh Lithium Ion Battery   \n",
       "\n",
       "                                             Processor   Price  \\\n",
       "0                                 Exynos 850 Processor    9699   \n",
       "1    Mediatek Helio A22 Processor, Upto 2.0 GHz Pro...    5749   \n",
       "2    Mediatek Helio A22 Processor, Upto 2.0 GHz Pro...    5749   \n",
       "3                    Qualcomm Snapdragon 680 Processor    9299   \n",
       "4                    Qualcomm Snapdragon 680 Processor    9299   \n",
       "..                                                 ...     ...   \n",
       "782                       Mediatek Helio P35 Processor   11499   \n",
       "783                              UniSoc T610 Processor    9999   \n",
       "784  1 Year Warranty for Phone and 6 Months Warrant...  109999   \n",
       "785                                          12 months    6599   \n",
       "786                             Unisoc 6531F Processor    3349   \n",
       "\n",
       "               Color Memory  \n",
       "0     Waterfall Blue     64  \n",
       "1      Country Green     32  \n",
       "2         Royal Blue     32  \n",
       "3    Caribbean Green     64  \n",
       "4       Pacific Blue     64  \n",
       "..               ...    ...  \n",
       "782       Light Blue    128  \n",
       "783     Aurora Green     64  \n",
       "784        Starlight    512  \n",
       "785      Light Green     32  \n",
       "786              NaN    NaN  \n",
       "\n",
       "[787 rows x 14 columns]"
      ]
     },
     "execution_count": 210,
     "metadata": {},
     "output_type": "execute_result"
    }
   ],
   "source": [
    "# Extract model name and memory size from model column\n",
    "model_regex = r'(.*)\\((.*)\\, (\\d+) (?:GB|TB)\\)'\n",
    "data[['Model', 'Color', 'Memory']] = data['Model'].str.extract(model_regex)\n",
    "\n",
    "# Strip whitespace from color and memory columns\n",
    "data['Color'] = data['Color'].str.strip()\n",
    "data['Memory'] = data['Memory'].str.strip()\n",
    "\n",
    "# Remove last 6 characters (i.e. ' 64 GB)') from Model column\n",
    "data['Model'] = data['Model'].str.replace(model_regex, r'\\1', regex=True)\n",
    "\n",
    "data"
   ]
  },
  {
   "attachments": {},
   "cell_type": "markdown",
   "metadata": {},
   "source": [
    "*I had to configure the regex code to take the memory part of the title as well...so lets drop the memeory column*  \n",
    "*to avoid repetition of the same kind of data* "
   ]
  },
  {
   "cell_type": "code",
   "execution_count": 211,
   "metadata": {},
   "outputs": [],
   "source": [
    "data.drop(columns=[\"Memory\"],inplace=True)"
   ]
  },
  {
   "cell_type": "code",
   "execution_count": 212,
   "metadata": {},
   "outputs": [
    {
     "data": {
      "text/plain": [
       "0"
      ]
     },
     "execution_count": 212,
     "metadata": {},
     "output_type": "execute_result"
    }
   ],
   "source": [
    "# Now checking for duplicate vlaues\n",
    "data.duplicated().sum()"
   ]
  },
  {
   "attachments": {},
   "cell_type": "markdown",
   "metadata": {},
   "source": [
    "*Step - 3: As this data was scrapped by me from the *Flipkart* website I know that there are many feature phones data in this dataframe*   \n",
    " \n",
    "*I choose to delete such values by using the price range as the logic as most feature phones are in the 1500-2500 range, as feature phones are kind of outdated and also because here we are dealing with high tech smartphones*  "
   ]
  },
  {
   "cell_type": "code",
   "execution_count": 213,
   "metadata": {},
   "outputs": [],
   "source": [
    "data = data[data['Price'] > 2700]"
   ]
  },
  {
   "cell_type": "code",
   "execution_count": 214,
   "metadata": {},
   "outputs": [
    {
     "data": {
      "text/plain": [
       "(672, 13)"
      ]
     },
     "execution_count": 214,
     "metadata": {},
     "output_type": "execute_result"
    }
   ],
   "source": [
    "data.shape"
   ]
  },
  {
   "cell_type": "code",
   "execution_count": 215,
   "metadata": {},
   "outputs": [
    {
     "data": {
      "text/plain": [
       "Model             8\n",
       "Stars             3\n",
       "Num_of_Ratings    3\n",
       "Reviews           3\n",
       "Ram               0\n",
       "                 ..\n",
       "Camera            0\n",
       "Battery           0\n",
       "Processor         0\n",
       "Price             0\n",
       "Color             8\n",
       "Length: 13, dtype: int64"
      ]
     },
     "execution_count": 215,
     "metadata": {},
     "output_type": "execute_result"
    }
   ],
   "source": [
    "# Rechecking the null values\n",
    "data.isnull().sum()"
   ]
  },
  {
   "cell_type": "code",
   "execution_count": 216,
   "metadata": {},
   "outputs": [],
   "source": [
    "# As we can see the Expamdable column has 282 missing values, lets try and fill them\n",
    "mode_value = data['Expandable'].mode()[0]\n",
    "data['Expandable'] = data['Expandable'].fillna(mode_value)\n",
    "data.dropna(inplace=True)\n",
    "# Iam using the mode value to fill the missing values since the expandable option is pretty generic for most \n",
    "# smartphones."
   ]
  },
  {
   "cell_type": "code",
   "execution_count": 217,
   "metadata": {},
   "outputs": [
    {
     "data": {
      "text/plain": [
       "Model             0\n",
       "Stars             0\n",
       "Num_of_Ratings    0\n",
       "Reviews           0\n",
       "Ram               0\n",
       "                 ..\n",
       "Camera            0\n",
       "Battery           0\n",
       "Processor         0\n",
       "Price             0\n",
       "Color             0\n",
       "Length: 13, dtype: int64"
      ]
     },
     "execution_count": 217,
     "metadata": {},
     "output_type": "execute_result"
    }
   ],
   "source": [
    "# Checking if the values have been imputed\n",
    "data.isnull().sum()"
   ]
  },
  {
   "attachments": {},
   "cell_type": "markdown",
   "metadata": {},
   "source": [
    "*Converting the `Stars` column to numerical values*"
   ]
  },
  {
   "cell_type": "code",
   "execution_count": 218,
   "metadata": {},
   "outputs": [],
   "source": [
    "data['Stars'] = data['Stars'].astype(float)"
   ]
  },
  {
   "attachments": {},
   "cell_type": "markdown",
   "metadata": {},
   "source": [
    "*Converting the Ratings and the reviews to numerical values*"
   ]
  },
  {
   "cell_type": "code",
   "execution_count": 219,
   "metadata": {},
   "outputs": [],
   "source": [
    "data['Num_Ratings'] = data['Num_of_Ratings'].str.replace(',', '').str.extract('(\\d+)').astype(int)\n",
    "data['Num_Reviews'] = data['Reviews'].str.replace(',', '').str.extract('(\\d+)').astype(int)\n",
    "\n",
    "# Drop the original columns\n",
    "data.drop(['Num_of_Ratings', 'Reviews'], axis=1, inplace=True)"
   ]
  },
  {
   "attachments": {},
   "cell_type": "markdown",
   "metadata": {},
   "source": [
    "*Inspecting the Ram column*"
   ]
  },
  {
   "cell_type": "code",
   "execution_count": 220,
   "metadata": {},
   "outputs": [
    {
     "data": {
      "text/plain": [
       "array(['4 GB RAM ', '2 GB RAM ', '128 GB RO', '6 GB RAM ', '64 GB RO',\n",
       "       '8 GB RAM ', '3 GB RAM ', '12 GB RAM ', '256 GB RO', '4 MB RAM ',\n",
       "       '512 GB RO'], dtype=object)"
      ]
     },
     "execution_count": 220,
     "metadata": {},
     "output_type": "execute_result"
    }
   ],
   "source": [
    "data.Ram.unique()"
   ]
  },
  {
   "attachments": {},
   "cell_type": "markdown",
   "metadata": {},
   "source": [
    "*Fixing the Anamolies in the `Ram` column*"
   ]
  },
  {
   "cell_type": "code",
   "execution_count": 221,
   "metadata": {},
   "outputs": [],
   "source": [
    "# Find the mode of the Ram column\n",
    "mode_value = data['Ram'].mode()[0]\n",
    "\n",
    "# Create a dictionary mapping of values to replace with the mode value\n",
    "replace_dict = {'128 GB RO': mode_value,\n",
    "                '64 GB RO': mode_value,\n",
    "                '256 GB RO': mode_value,\n",
    "                '4 MB RAM ': mode_value,\n",
    "                '512 GB RO': mode_value}\n",
    "\n",
    "# Replace the values with the mode value\n",
    "data['Ram'] = data['Ram'].replace(replace_dict)"
   ]
  },
  {
   "cell_type": "code",
   "execution_count": 222,
   "metadata": {},
   "outputs": [
    {
     "data": {
      "text/plain": [
       "array(['4 GB RAM ', '2 GB RAM ', '6 GB RAM ', '8 GB RAM ', '3 GB RAM ',\n",
       "       '12 GB RAM '], dtype=object)"
      ]
     },
     "execution_count": 222,
     "metadata": {},
     "output_type": "execute_result"
    }
   ],
   "source": [
    "data.Ram.unique()"
   ]
  },
  {
   "attachments": {},
   "cell_type": "markdown",
   "metadata": {},
   "source": [
    "*As you can see the values now make sense for the ram column*"
   ]
  },
  {
   "cell_type": "code",
   "execution_count": 223,
   "metadata": {},
   "outputs": [
    {
     "data": {
      "text/plain": [
       "array(['64 GB ROM', '32 GB ROM', '128 GB ROM', '128 GB RO', '256 GB RO',\n",
       "       '256 GB ROM', '16 GB ROM', '512 GB ROM'], dtype=object)"
      ]
     },
     "execution_count": 223,
     "metadata": {},
     "output_type": "execute_result"
    }
   ],
   "source": [
    "data.Storage.unique()"
   ]
  },
  {
   "attachments": {},
   "cell_type": "markdown",
   "metadata": {},
   "source": [
    "*Inspecting the Storage column*"
   ]
  },
  {
   "cell_type": "code",
   "execution_count": 224,
   "metadata": {},
   "outputs": [
    {
     "data": {
      "text/plain": [
       "array(['64 GB ROM', '32 GB ROM', '128 GB ROM', '128 GB RO', '256 GB RO',\n",
       "       '256 GB ROM', '16 GB ROM', '512 GB ROM'], dtype=object)"
      ]
     },
     "execution_count": 224,
     "metadata": {},
     "output_type": "execute_result"
    }
   ],
   "source": [
    "data.Storage.unique()"
   ]
  },
  {
   "attachments": {},
   "cell_type": "markdown",
   "metadata": {},
   "source": [
    "*Replacing the typo errors with the column*"
   ]
  },
  {
   "cell_type": "code",
   "execution_count": 225,
   "metadata": {},
   "outputs": [
    {
     "data": {
      "text/plain": [
       "array(['64 GB ROM', '32 GB ROM', '128 GB ROM', '128 GB RO', '256 GB RO',\n",
       "       '256 GB ROM', '16 GB ROM', '512 GB ROM'], dtype=object)"
      ]
     },
     "execution_count": 225,
     "metadata": {},
     "output_type": "execute_result"
    }
   ],
   "source": [
    "# Rechecking the values\n",
    "data.Storage.unique()\n",
    "\n",
    "# This gave us some more errors as it didnt work as intended...so i had to re run the code with the\n",
    "# updated typos"
   ]
  },
  {
   "cell_type": "code",
   "execution_count": 226,
   "metadata": {},
   "outputs": [],
   "source": [
    "data['Storage'] = data['Storage'].str.replace('128 GB ROMM', '128 GB ROM')\n",
    "data['Storage'] = data['Storage'].str.replace('256 GB ROMM', '256 GB ROM')"
   ]
  },
  {
   "attachments": {},
   "cell_type": "markdown",
   "metadata": {},
   "source": [
    "*Checking the expandable column*"
   ]
  },
  {
   "cell_type": "code",
   "execution_count": 227,
   "metadata": {},
   "outputs": [
    {
     "data": {
      "text/plain": [
       "array(['Expandable Upto 1 TB', 'Expandable Upto 512 GB',\n",
       "       'Expandable Upto 256 GB', ' Expandable Upto 1 TB',\n",
       "       'Expandable Upto 2 TB', ' Expandable Upto 512 GB',\n",
       "       ' Expandable Upto 256 GB', ' Expandable Upto 2 TB',\n",
       "       'Expandable Upto 128 GB'], dtype=object)"
      ]
     },
     "execution_count": 227,
     "metadata": {},
     "output_type": "execute_result"
    }
   ],
   "source": [
    "data.Expandable.unique()"
   ]
  },
  {
   "attachments": {},
   "cell_type": "markdown",
   "metadata": {},
   "source": [
    "*Fixing the repeated values*"
   ]
  },
  {
   "cell_type": "code",
   "execution_count": 228,
   "metadata": {},
   "outputs": [],
   "source": [
    "data['Expandable'] = data['Expandable'].str.replace(' Expandable Upto 1 TB', 'Expandable Upto 1 TB')\n",
    "data['Expandable'] = data['Expandable'].str.replace(' Expandable Upto 512 GB', 'Expandable Upto 512 GB')\n",
    "data['Expandable'] = data['Expandable'].str.replace(' Expandable Upto 256 GB', 'Expandable Upto 256 GB')\n",
    "data['Expandable'] = data['Expandable'].str.replace(' Expandable Upto 2 TB', 'Expandable Upto 2 TB')"
   ]
  },
  {
   "cell_type": "code",
   "execution_count": 229,
   "metadata": {},
   "outputs": [
    {
     "data": {
      "text/plain": [
       "array(['Expandable Upto 1 TB', 'Expandable Upto 512 GB',\n",
       "       'Expandable Upto 256 GB', 'Expandable Upto 2 TB',\n",
       "       'Expandable Upto 128 GB'], dtype=object)"
      ]
     },
     "execution_count": 229,
     "metadata": {},
     "output_type": "execute_result"
    }
   ],
   "source": [
    "# Rechecking the unique values\n",
    "data.Expandable.unique()"
   ]
  },
  {
   "attachments": {},
   "cell_type": "markdown",
   "metadata": {},
   "source": [
    "*Checking the Display Column*"
   ]
  },
  {
   "attachments": {},
   "cell_type": "markdown",
   "metadata": {},
   "source": [
    "*The `Display` column needs some rectifications...we will extract the size in inches for simplicity*"
   ]
  },
  {
   "cell_type": "code",
   "execution_count": 230,
   "metadata": {},
   "outputs": [],
   "source": [
    "data['display_inches'] = data['Display'].str[:5]"
   ]
  },
  {
   "cell_type": "code",
   "execution_count": 232,
   "metadata": {},
   "outputs": [
    {
     "data": {
      "text/html": [
       "<div>\n",
       "<style scoped>\n",
       "    .dataframe tbody tr th:only-of-type {\n",
       "        vertical-align: middle;\n",
       "    }\n",
       "\n",
       "    .dataframe tbody tr th {\n",
       "        vertical-align: top;\n",
       "    }\n",
       "\n",
       "    .dataframe thead th {\n",
       "        text-align: right;\n",
       "    }\n",
       "</style>\n",
       "<table border=\"1\" class=\"dataframe\">\n",
       "  <thead>\n",
       "    <tr style=\"text-align: right;\">\n",
       "      <th></th>\n",
       "      <th>Model</th>\n",
       "      <th>Stars</th>\n",
       "      <th>Ram</th>\n",
       "      <th>Storage</th>\n",
       "      <th>Expandable</th>\n",
       "      <th>Display</th>\n",
       "      <th>Camera</th>\n",
       "      <th>Battery</th>\n",
       "      <th>Processor</th>\n",
       "      <th>Price</th>\n",
       "      <th>Color</th>\n",
       "      <th>Num_Ratings</th>\n",
       "      <th>Num_Reviews</th>\n",
       "      <th>display_inches</th>\n",
       "    </tr>\n",
       "  </thead>\n",
       "  <tbody>\n",
       "    <tr>\n",
       "      <th>0</th>\n",
       "      <td>SAMSUNG Galaxy F13</td>\n",
       "      <td>4.4</td>\n",
       "      <td>4 GB RAM</td>\n",
       "      <td>64 GB ROM</td>\n",
       "      <td>Expandable Upto 1 TB</td>\n",
       "      <td>16.76 cm (6.6 inch) Full HD+ Display</td>\n",
       "      <td>50MP + 5MP + 2MP | 8MP Front Camera</td>\n",
       "      <td>6000 mAh Lithium Ion Battery</td>\n",
       "      <td>Exynos 850 Processor</td>\n",
       "      <td>9699</td>\n",
       "      <td>Waterfall Blue</td>\n",
       "      <td>126250</td>\n",
       "      <td>7344</td>\n",
       "      <td>16.76</td>\n",
       "    </tr>\n",
       "    <tr>\n",
       "      <th>1</th>\n",
       "      <td>POCO C50</td>\n",
       "      <td>4.4</td>\n",
       "      <td>2 GB RAM</td>\n",
       "      <td>32 GB ROM</td>\n",
       "      <td>Expandable Upto 512 GB</td>\n",
       "      <td>16.56 cm (6.52 inch) HD+ Display</td>\n",
       "      <td>8MP Dual Camera | 5MP Front Camera</td>\n",
       "      <td>5000 mAh Lithium Polymer Battery</td>\n",
       "      <td>Mediatek Helio A22 Processor, Upto 2.0 GHz Pro...</td>\n",
       "      <td>5749</td>\n",
       "      <td>Country Green</td>\n",
       "      <td>3204</td>\n",
       "      <td>151</td>\n",
       "      <td>16.56</td>\n",
       "    </tr>\n",
       "    <tr>\n",
       "      <th>2</th>\n",
       "      <td>POCO C50</td>\n",
       "      <td>4.4</td>\n",
       "      <td>2 GB RAM</td>\n",
       "      <td>32 GB ROM</td>\n",
       "      <td>Expandable Upto 512 GB</td>\n",
       "      <td>16.56 cm (6.52 inch) HD+ Display</td>\n",
       "      <td>8MP Dual Camera | 5MP Front Camera</td>\n",
       "      <td>5000 mAh Lithium Polymer Battery</td>\n",
       "      <td>Mediatek Helio A22 Processor, Upto 2.0 GHz Pro...</td>\n",
       "      <td>5749</td>\n",
       "      <td>Royal Blue</td>\n",
       "      <td>3204</td>\n",
       "      <td>151</td>\n",
       "      <td>16.56</td>\n",
       "    </tr>\n",
       "    <tr>\n",
       "      <th>3</th>\n",
       "      <td>REDMI 10</td>\n",
       "      <td>4.3</td>\n",
       "      <td>4 GB RAM</td>\n",
       "      <td>64 GB ROM</td>\n",
       "      <td>Expandable Upto 1 TB</td>\n",
       "      <td>17.02 cm (6.7 inch) HD+ Display</td>\n",
       "      <td>50MP + 2MP | 5MP Front Camera</td>\n",
       "      <td>6000 mAh Lithium Polymer Battery</td>\n",
       "      <td>Qualcomm Snapdragon 680 Processor</td>\n",
       "      <td>9299</td>\n",
       "      <td>Caribbean Green</td>\n",
       "      <td>193536</td>\n",
       "      <td>12428</td>\n",
       "      <td>17.02</td>\n",
       "    </tr>\n",
       "    <tr>\n",
       "      <th>4</th>\n",
       "      <td>REDMI 10</td>\n",
       "      <td>4.3</td>\n",
       "      <td>4 GB RAM</td>\n",
       "      <td>64 GB ROM</td>\n",
       "      <td>Expandable Upto 1 TB</td>\n",
       "      <td>17.02 cm (6.7 inch) HD+ Display</td>\n",
       "      <td>50MP + 2MP | 5MP Front Camera</td>\n",
       "      <td>6000 mAh Lithium Polymer Battery</td>\n",
       "      <td>Qualcomm Snapdragon 680 Processor</td>\n",
       "      <td>9299</td>\n",
       "      <td>Pacific Blue</td>\n",
       "      <td>193536</td>\n",
       "      <td>12428</td>\n",
       "      <td>17.02</td>\n",
       "    </tr>\n",
       "  </tbody>\n",
       "</table>\n",
       "</div>"
      ],
      "text/plain": [
       "                 Model  Stars        Ram    Storage              Expandable  \\\n",
       "0  SAMSUNG Galaxy F13     4.4  4 GB RAM   64 GB ROM    Expandable Upto 1 TB   \n",
       "1            POCO C50     4.4  2 GB RAM   32 GB ROM  Expandable Upto 512 GB   \n",
       "2            POCO C50     4.4  2 GB RAM   32 GB ROM  Expandable Upto 512 GB   \n",
       "3            REDMI 10     4.3  4 GB RAM   64 GB ROM    Expandable Upto 1 TB   \n",
       "4            REDMI 10     4.3  4 GB RAM   64 GB ROM    Expandable Upto 1 TB   \n",
       "\n",
       "                                Display                               Camera  \\\n",
       "0  16.76 cm (6.6 inch) Full HD+ Display  50MP + 5MP + 2MP | 8MP Front Camera   \n",
       "1      16.56 cm (6.52 inch) HD+ Display   8MP Dual Camera | 5MP Front Camera   \n",
       "2      16.56 cm (6.52 inch) HD+ Display   8MP Dual Camera | 5MP Front Camera   \n",
       "3       17.02 cm (6.7 inch) HD+ Display        50MP + 2MP | 5MP Front Camera   \n",
       "4       17.02 cm (6.7 inch) HD+ Display        50MP + 2MP | 5MP Front Camera   \n",
       "\n",
       "                            Battery  \\\n",
       "0      6000 mAh Lithium Ion Battery   \n",
       "1  5000 mAh Lithium Polymer Battery   \n",
       "2  5000 mAh Lithium Polymer Battery   \n",
       "3  6000 mAh Lithium Polymer Battery   \n",
       "4  6000 mAh Lithium Polymer Battery   \n",
       "\n",
       "                                           Processor  Price            Color  \\\n",
       "0                               Exynos 850 Processor   9699   Waterfall Blue   \n",
       "1  Mediatek Helio A22 Processor, Upto 2.0 GHz Pro...   5749    Country Green   \n",
       "2  Mediatek Helio A22 Processor, Upto 2.0 GHz Pro...   5749       Royal Blue   \n",
       "3                  Qualcomm Snapdragon 680 Processor   9299  Caribbean Green   \n",
       "4                  Qualcomm Snapdragon 680 Processor   9299     Pacific Blue   \n",
       "\n",
       "   Num_Ratings  Num_Reviews display_inches  \n",
       "0       126250         7344          16.76  \n",
       "1         3204          151          16.56  \n",
       "2         3204          151          16.56  \n",
       "3       193536        12428          17.02  \n",
       "4       193536        12428          17.02  "
      ]
     },
     "execution_count": 232,
     "metadata": {},
     "output_type": "execute_result"
    }
   ],
   "source": [
    "data.head()"
   ]
  },
  {
   "cell_type": "code",
   "execution_count": 233,
   "metadata": {},
   "outputs": [
    {
     "data": {
      "text/plain": [
       "array(['16.76', '16.56', '17.02', '17.32', '15.49', '16.26', '16.51',\n",
       "       '16.94', '16.71', '16.64', '16.36', '15.6 ', '16.74', '16.33',\n",
       "       '16.66', '16.59', '17.22', '17.04', '16.54', '17.53', '17.07',\n",
       "       '17.27', '16.97', '12.7 ', '16.21', '16.3 ', '16.81', '16.43',\n",
       "       '13.84', '16.0 ', '16.55', '17.65', '15.8 '], dtype=object)"
      ]
     },
     "execution_count": 233,
     "metadata": {},
     "output_type": "execute_result"
    }
   ],
   "source": [
    "data.display_inches.unique()"
   ]
  },
  {
   "cell_type": "code",
   "execution_count": 234,
   "metadata": {},
   "outputs": [],
   "source": [
    "# Dropping the Display column as it is no longer required\n",
    "data.drop(columns=[\"Display\"],inplace=True)"
   ]
  },
  {
   "attachments": {},
   "cell_type": "markdown",
   "metadata": {},
   "source": [
    "*Checking the camera column*"
   ]
  },
  {
   "cell_type": "code",
   "execution_count": 235,
   "metadata": {},
   "outputs": [
    {
     "data": {
      "text/plain": [
       "array(['50MP + 5MP + 2MP | 8MP Front Camera',\n",
       "       '8MP Dual Camera | 5MP Front Camera',\n",
       "       '50MP + 2MP | 5MP Front Camera',\n",
       "       '13Mp + AI Lens | 8MP Front Camera',\n",
       "       '12MP + 12MP | 12MP Front Camera',\n",
       "       '50MP + 8MP + 2MP | 8MP Front Camera',\n",
       "       '50MP + 8MP | 16MP Front Camera',\n",
       "       '50MP + 8MP + 2MP | 16MP Front Camera',\n",
       "       '50MP + 8MP + 2MP | 13MP Front Camera',\n",
       "       '13MP Rear Camera | 5MP Front Camera',\n",
       "       '50 MP + 2 MP Depth Lens + AI Lens | 8MP Front Camera',\n",
       "       '50 MP + 2 MP + QVGA | 8MP Front Camera',\n",
       "       '64MP + 8MP + 2MP | 16MP Front Camera',\n",
       "       '50MP + 2MP | 8MP Front Camera',\n",
       "       '8MP Rear Camera | 5MP Front Camera',\n",
       "       '13MP + AI Lens | 5MP Front Camera',\n",
       "       '50MP + 8MP + 2MP + 2MP | 16MP Front Camera',\n",
       "       '13MP + 2MP | 5MP Front Camera',\n",
       "       '48MP + 2MP + 2MP | 8MP Front Camera',\n",
       "       '50MP + 2MP + 2MP | 16MP Front Camera',\n",
       "       '12.2MP + 12MP | 8MP Front Camera',\n",
       "       '50MP + 2MP + 0.3MP | 8MP Front Camera',\n",
       "       '50 MP + Depth Lens | 8MP Front Camera', '50MP Rear Camera',\n",
       "       '64MP + 8MP + 2MP + 2MP | 13MP Front Camera',\n",
       "       '50MP + 0.3MP + 0.3MP | 5MP Front Camera',\n",
       "       '108MP + 8MP + 2MP | 16MP Front Camera',\n",
       "       '50MP + AI Lens | 8MP Front Camera', '13MP Rear Camera',\n",
       "       '13MP + 2MP + 2MP | 5MP Front Camera',\n",
       "       '50MP + 0.3MP | 5MP Front Camera', '5MP Rear Camera',\n",
       "       '64MP Rear Camera', '50MP + 2MP + 2MP | 8MP Front Camera',\n",
       "       '50MP Rear Camera | 5MP Front Camera',\n",
       "       '48MP + 8MP + 2MP + 2MP | 16MP Front Camera',\n",
       "       '50MP + 50MP | 16MP Front Camera',\n",
       "       '50MP + 2MP Depth Sensor + 2MP Macro Sensor | 8MP Front Camera',\n",
       "       '50 MP + 2 MP Depth Lens + AI Lens | 16MP Front Camera',\n",
       "       '48MP + 2MP + 2MP | 16MP Front Camera',\n",
       "       '13MP + 2MP | 8MP Front Camera', '50MP + 2MP | 16MP Front Camera',\n",
       "       '50MP (OIS) + 8MP + 2MP | 50MP Front Camera',\n",
       "       '108MP + 2MP Depth Lens + AI lens | 16MP Front Camera',\n",
       "       '50MP (OIS) + 8MP + 2MP | 16MP Front Camera',\n",
       "       '50MP + 2MP Depth + AI Lens | 16MP Front Camera',\n",
       "       '8MP Rear Camera',\n",
       "       '108MP + 2MP (Depth) + 2MP (Macro) | 16MP Front Camera',\n",
       "       '50MP + 50MP + 2MP | 32MP Front Camera',\n",
       "       '48MP + 2MP | 8MP Front Camera',\n",
       "       '200MP + 8MP + 2MP | 16MP Front Camera',\n",
       "       '50MP + 2MP | 13MP Front Camera',\n",
       "       '108MP + 2MP + 2MP | 32MP Front Camera',\n",
       "       '108MP + 2MP | 16MP Front Camera',\n",
       "       '64MP + 2MP | 16MP Front Camera',\n",
       "       '13MP + Depth Lens | 8MP Front Camera', '48MP Rear Camera',\n",
       "       '108MP Rear Camera', '13MP Rear Camera | 8MP Front Camera',\n",
       "       '50MP + 10MP + 12MP | 12MP Front Camera',\n",
       "       '50MP + 8MP + 2MP + 2MP | 8MP Front Camera', '2MP Rear Camera',\n",
       "       '50MP + 50MP + 2MP + 2MP | 16MP + 16MP Dual Front Camera',\n",
       "       '50MP + 5MP | 8MP Front Camera',\n",
       "       '8 MP + Depth Lens | 5MP Front Camera',\n",
       "       '50MP + 8MP + 2MP | 44MP Front Camera', '13MP + 2MP',\n",
       "       '64MP + 8MP + 2MP | 20MP Front Camera',\n",
       "       '64MP (OIS) + 2MP + 2MP | 16MP Front Camera',\n",
       "       '50MP + 50MP + 2MP | 60MP Front Camera',\n",
       "       '48MP Primary Camera + 2MP Macro Lens + 2MP Depth Sensor | 8MP Front Camera',\n",
       "       '64MP + 64MP + 8MP + 2MP | 16MP + 16MP Dual Front Camera',\n",
       "       '5MP Rear Camera | 5MP Front Camera',\n",
       "       '12MP + 12MP + 8MP (OIS) | 32MP Front Camera',\n",
       "       '108MP + 13MP + 2MP | 60 MP with OIS',\n",
       "       '64MP + 64MP + 2MP + 2MP | 16MP Dual Front Camera',\n",
       "       '48MP + 8MP + 2MP + 2MP | 13MP Front Camera',\n",
       "       '50 MP + 2 MP Depth Lens + AI lens | 16MP Front Camera',\n",
       "       '108MP + 8MP + 2MP | 32MP Front Camera',\n",
       "       '13MP + 2MP + 0.3MP | 5MP Front Camera',\n",
       "       '50MP + 5MP + 2MP + 2MP | 8MP Front Camera',\n",
       "       '64MP + 8MP + 5MP + 2MP | 16MP Front Camera',\n",
       "       '48MP + 5MP + 2MP + 2MP | 16MP Front Camera',\n",
       "       '50MP + 13MP + 2MP | 32MP Front Camera',\n",
       "       '5MP Rear Camera | 2MP Front Camera',\n",
       "       '50MP Rear Camera | 8MP Front Camera',\n",
       "       '8MP + Depth Sensor | 8MP Front Camera',\n",
       "       '50MP + 8MP + 2MP | 32MP Front Camera',\n",
       "       '64MP + 2MP + 2MP | 16MP + 2MP Dual Front Camera',\n",
       "       '64MP + 8MP + 2MP + 2MP | 16MP Front Camera',\n",
       "       '16MP Rear Camera | 8MP Front Camera',\n",
       "       '12MP Rear Camera | 5MP Front Camera',\n",
       "       '50MP + 12MP | 10.8MP Front Camera',\n",
       "       '64MP + 13MP + 5MP | 24MP Front Camera',\n",
       "       '13MP + 2MP + 2MP | 8MP Front Camera',\n",
       "       '108MP + 12MP + 5MP + 5MP | 32MP Front Camera',\n",
       "       '50MP + 48MP + 12MP | 10.8MP Front Camera',\n",
       "       '64MP + 12MP + 5MP + 5MP | 32MP Front Camera',\n",
       "       '64MP + 8MP + 2MP | 44MP Front Camera',\n",
       "       '64MP + 2MP + 2MP | 16MP Front Camera',\n",
       "       '48MP + 12MP + 12MP | 12MP Front Camera',\n",
       "       '48MP + 5MP + 2MP + 2MP | 8MP Front Camera',\n",
       "       '12MP + 12MP | 10MP Front Camera',\n",
       "       '50 MP + 2 MP Depth Lens + 2 MP Macro Lens | 16MP Front Camera',\n",
       "       '64MP + 2MP + 2MP | 32MP + 2MP Dual Front Camera',\n",
       "       '48MP + 8MP + 2MP | 16MP Front Camera',\n",
       "       '64MP + 8MP + 2MP | 32MP Front Camera',\n",
       "       '48MP + 8MP + 2MP + 2MP | 20MP Front Camera',\n",
       "       '108MP + 8MP + 2MP | 50MP + 8MP Dual Front Camera',\n",
       "       '48MP + 8MP + 5MP + 2MP | 16MP Front Camera',\n",
       "       '50MP + 50MP + 2MP + 2MP | 5MP Front Camera',\n",
       "       '64MP + 8MP + 5MP | 20MP Front Camera',\n",
       "       '13 MP + 2 MP Depth Lens | 8MP Front Camera',\n",
       "       '50MP + 12MP + 12MP | 32MP Front Camera',\n",
       "       '50MP + 2MP + AI Lens | 8MP Front Camera',\n",
       "       '48MP + 8MP + 5MP + 2MP | 13MP Front Camera',\n",
       "       '64MP + 8MP + 5MP | 16MP Front Camera',\n",
       "       '64MP + 12MP + 8MP + 2MP | 16MP + 8MP Dual Front Camera',\n",
       "       '108MP + 8MP + 5MP | 20MP Front Camera', '12MP Rear Camera',\n",
       "       '50 MP + 2 MP + AI Lens | 8MP Front Camera',\n",
       "       '13MP + 8MP + 5MP + 2MP | 8MP Front Camera',\n",
       "       '64MP + 8MP + 2MP + 2MP | 20MP + 2MP Dual Front Camera',\n",
       "       '200MP + 50MP + 12MP | 60MP Front Camera',\n",
       "       '50MP + 12MP + 10MP | 10MP Front Camera'], dtype=object)"
      ]
     },
     "execution_count": 235,
     "metadata": {},
     "output_type": "execute_result"
    }
   ],
   "source": [
    "data.Camera.unique()"
   ]
  },
  {
   "attachments": {},
   "cell_type": "markdown",
   "metadata": {},
   "source": [
    "*Preprocessing for the Camera column*"
   ]
  },
  {
   "cell_type": "code",
   "execution_count": 236,
   "metadata": {},
   "outputs": [],
   "source": [
    "# Since the Camera column has so many values, and the data is cluttered\n",
    "# we are just extracting the number of cameras from the camera column for simplicity\n",
    "# Please note that this is the toal number of cameras including the front and the back cameras\n",
    "\n",
    "\n",
    "def count_cameras(camera_str):\n",
    "    if \"Camera\" not in camera_str:\n",
    "        return 0\n",
    "    else:\n",
    "        cameras = camera_str.split(\"|\")[0]\n",
    "        return len(cameras.split(\"+\"))\n",
    "\n",
    "data[\"Num_camera\"] = data[\"Camera\"].apply(count_cameras)"
   ]
  },
  {
   "cell_type": "code",
   "execution_count": 237,
   "metadata": {},
   "outputs": [],
   "source": [
    "data['Num_camera'] = data['Camera'].apply(count_cameras)"
   ]
  },
  {
   "cell_type": "code",
   "execution_count": 238,
   "metadata": {},
   "outputs": [
    {
     "data": {
      "text/plain": [
       "array([3, 1, 2, 4, 0], dtype=int64)"
      ]
     },
     "execution_count": 238,
     "metadata": {},
     "output_type": "execute_result"
    }
   ],
   "source": [
    "data.Num_camera.unique()"
   ]
  },
  {
   "attachments": {},
   "cell_type": "markdown",
   "metadata": {},
   "source": [
    "*Dropping the Camera column as it is no longer required*"
   ]
  },
  {
   "cell_type": "code",
   "execution_count": 239,
   "metadata": {},
   "outputs": [],
   "source": [
    "data.drop(columns=[\"Camera\"],inplace=True)"
   ]
  },
  {
   "attachments": {},
   "cell_type": "markdown",
   "metadata": {},
   "source": [
    "*Analysing the Batttery column*"
   ]
  },
  {
   "cell_type": "code",
   "execution_count": 240,
   "metadata": {},
   "outputs": [
    {
     "data": {
      "text/html": [
       "<div>\n",
       "<style scoped>\n",
       "    .dataframe tbody tr th:only-of-type {\n",
       "        vertical-align: middle;\n",
       "    }\n",
       "\n",
       "    .dataframe tbody tr th {\n",
       "        vertical-align: top;\n",
       "    }\n",
       "\n",
       "    .dataframe thead th {\n",
       "        text-align: right;\n",
       "    }\n",
       "</style>\n",
       "<table border=\"1\" class=\"dataframe\">\n",
       "  <thead>\n",
       "    <tr style=\"text-align: right;\">\n",
       "      <th></th>\n",
       "      <th>Model</th>\n",
       "      <th>Stars</th>\n",
       "      <th>Ram</th>\n",
       "      <th>Storage</th>\n",
       "      <th>Expandable</th>\n",
       "      <th>Battery</th>\n",
       "      <th>Processor</th>\n",
       "      <th>Price</th>\n",
       "      <th>Color</th>\n",
       "      <th>Num_Ratings</th>\n",
       "      <th>Num_Reviews</th>\n",
       "      <th>display_inches</th>\n",
       "      <th>Num_camera</th>\n",
       "      <th>battery_mah</th>\n",
       "    </tr>\n",
       "  </thead>\n",
       "  <tbody>\n",
       "    <tr>\n",
       "      <th>0</th>\n",
       "      <td>SAMSUNG Galaxy F13</td>\n",
       "      <td>4.4</td>\n",
       "      <td>4 GB RAM</td>\n",
       "      <td>64 GB ROM</td>\n",
       "      <td>Expandable Upto 1 TB</td>\n",
       "      <td>6000 mAh Lithium Ion Battery</td>\n",
       "      <td>Exynos 850 Processor</td>\n",
       "      <td>9699</td>\n",
       "      <td>Waterfall Blue</td>\n",
       "      <td>126250</td>\n",
       "      <td>7344</td>\n",
       "      <td>16.76</td>\n",
       "      <td>3</td>\n",
       "      <td>6000</td>\n",
       "    </tr>\n",
       "    <tr>\n",
       "      <th>1</th>\n",
       "      <td>POCO C50</td>\n",
       "      <td>4.4</td>\n",
       "      <td>2 GB RAM</td>\n",
       "      <td>32 GB ROM</td>\n",
       "      <td>Expandable Upto 512 GB</td>\n",
       "      <td>5000 mAh Lithium Polymer Battery</td>\n",
       "      <td>Mediatek Helio A22 Processor, Upto 2.0 GHz Pro...</td>\n",
       "      <td>5749</td>\n",
       "      <td>Country Green</td>\n",
       "      <td>3204</td>\n",
       "      <td>151</td>\n",
       "      <td>16.56</td>\n",
       "      <td>1</td>\n",
       "      <td>5000</td>\n",
       "    </tr>\n",
       "    <tr>\n",
       "      <th>2</th>\n",
       "      <td>POCO C50</td>\n",
       "      <td>4.4</td>\n",
       "      <td>2 GB RAM</td>\n",
       "      <td>32 GB ROM</td>\n",
       "      <td>Expandable Upto 512 GB</td>\n",
       "      <td>5000 mAh Lithium Polymer Battery</td>\n",
       "      <td>Mediatek Helio A22 Processor, Upto 2.0 GHz Pro...</td>\n",
       "      <td>5749</td>\n",
       "      <td>Royal Blue</td>\n",
       "      <td>3204</td>\n",
       "      <td>151</td>\n",
       "      <td>16.56</td>\n",
       "      <td>1</td>\n",
       "      <td>5000</td>\n",
       "    </tr>\n",
       "    <tr>\n",
       "      <th>3</th>\n",
       "      <td>REDMI 10</td>\n",
       "      <td>4.3</td>\n",
       "      <td>4 GB RAM</td>\n",
       "      <td>64 GB ROM</td>\n",
       "      <td>Expandable Upto 1 TB</td>\n",
       "      <td>6000 mAh Lithium Polymer Battery</td>\n",
       "      <td>Qualcomm Snapdragon 680 Processor</td>\n",
       "      <td>9299</td>\n",
       "      <td>Caribbean Green</td>\n",
       "      <td>193536</td>\n",
       "      <td>12428</td>\n",
       "      <td>17.02</td>\n",
       "      <td>2</td>\n",
       "      <td>6000</td>\n",
       "    </tr>\n",
       "    <tr>\n",
       "      <th>4</th>\n",
       "      <td>REDMI 10</td>\n",
       "      <td>4.3</td>\n",
       "      <td>4 GB RAM</td>\n",
       "      <td>64 GB ROM</td>\n",
       "      <td>Expandable Upto 1 TB</td>\n",
       "      <td>6000 mAh Lithium Polymer Battery</td>\n",
       "      <td>Qualcomm Snapdragon 680 Processor</td>\n",
       "      <td>9299</td>\n",
       "      <td>Pacific Blue</td>\n",
       "      <td>193536</td>\n",
       "      <td>12428</td>\n",
       "      <td>17.02</td>\n",
       "      <td>2</td>\n",
       "      <td>6000</td>\n",
       "    </tr>\n",
       "  </tbody>\n",
       "</table>\n",
       "</div>"
      ],
      "text/plain": [
       "                 Model  Stars        Ram    Storage              Expandable  \\\n",
       "0  SAMSUNG Galaxy F13     4.4  4 GB RAM   64 GB ROM    Expandable Upto 1 TB   \n",
       "1            POCO C50     4.4  2 GB RAM   32 GB ROM  Expandable Upto 512 GB   \n",
       "2            POCO C50     4.4  2 GB RAM   32 GB ROM  Expandable Upto 512 GB   \n",
       "3            REDMI 10     4.3  4 GB RAM   64 GB ROM    Expandable Upto 1 TB   \n",
       "4            REDMI 10     4.3  4 GB RAM   64 GB ROM    Expandable Upto 1 TB   \n",
       "\n",
       "                            Battery  \\\n",
       "0      6000 mAh Lithium Ion Battery   \n",
       "1  5000 mAh Lithium Polymer Battery   \n",
       "2  5000 mAh Lithium Polymer Battery   \n",
       "3  6000 mAh Lithium Polymer Battery   \n",
       "4  6000 mAh Lithium Polymer Battery   \n",
       "\n",
       "                                           Processor  Price            Color  \\\n",
       "0                               Exynos 850 Processor   9699   Waterfall Blue   \n",
       "1  Mediatek Helio A22 Processor, Upto 2.0 GHz Pro...   5749    Country Green   \n",
       "2  Mediatek Helio A22 Processor, Upto 2.0 GHz Pro...   5749       Royal Blue   \n",
       "3                  Qualcomm Snapdragon 680 Processor   9299  Caribbean Green   \n",
       "4                  Qualcomm Snapdragon 680 Processor   9299     Pacific Blue   \n",
       "\n",
       "   Num_Ratings  Num_Reviews display_inches  Num_camera  battery_mah  \n",
       "0       126250         7344          16.76           3         6000  \n",
       "1         3204          151          16.56           1         5000  \n",
       "2         3204          151          16.56           1         5000  \n",
       "3       193536        12428          17.02           2         6000  \n",
       "4       193536        12428          17.02           2         6000  "
      ]
     },
     "execution_count": 240,
     "metadata": {},
     "output_type": "execute_result"
    }
   ],
   "source": [
    "data['battery_mah'] = data['Battery'].str.extract(r'(\\d+)')\n",
    "\n",
    "# Convert the 'battery_mah' column to numeric data type\n",
    "data['battery_mah'] = pd.to_numeric(data['battery_mah'], errors='coerce')\n",
    "\n",
    "# Display the updated DataFrame\n",
    "data.head()"
   ]
  },
  {
   "cell_type": "code",
   "execution_count": 241,
   "metadata": {},
   "outputs": [
    {
     "data": {
      "text/plain": [
       "array([6000, 5000,   15,   13, 4410, 4700, 4310, 4500, 4600, 7000, 4020,\n",
       "       4980, 4800, 3900, 3020, 5080, 4050, 4000,   14, 5020, 4400, 3100,\n",
       "       3000, 5200, 4270, 4926, 4230,   16, 3300, 4300, 5160, 4250, 5018,\n",
       "       5065, 4520, 4610], dtype=int64)"
      ]
     },
     "execution_count": 241,
     "metadata": {},
     "output_type": "execute_result"
    }
   ],
   "source": [
    "data.battery_mah.unique()"
   ]
  },
  {
   "cell_type": "code",
   "execution_count": 242,
   "metadata": {},
   "outputs": [
    {
     "data": {
      "text/plain": [
       "0    5000\n",
       "Name: battery_mah, dtype: int64"
      ]
     },
     "execution_count": 242,
     "metadata": {},
     "output_type": "execute_result"
    }
   ],
   "source": [
    "data.battery_mah.mode()"
   ]
  },
  {
   "cell_type": "code",
   "execution_count": 243,
   "metadata": {},
   "outputs": [],
   "source": [
    "# Replacing the wrong values with the actual values\n",
    "data['battery_mah'] = data['battery_mah'].replace(13, 4500)\n",
    "data['battery_mah'] = data['battery_mah'].replace(14, 5000)\n",
    "data['battery_mah'] = data['battery_mah'].replace(15, 4500)\n",
    "data['battery_mah'] = data['battery_mah'].replace(16, 4800)"
   ]
  },
  {
   "cell_type": "code",
   "execution_count": 244,
   "metadata": {},
   "outputs": [
    {
     "data": {
      "text/plain": [
       "array([6000, 5000, 4500, 4410, 4700, 4310, 4600, 7000, 4020, 4980, 4800,\n",
       "       3900, 3020, 5080, 4050, 4000, 5020, 4400, 3100, 3000, 5200, 4270,\n",
       "       4926, 4230, 3300, 4300, 5160, 4250, 5018, 5065, 4520, 4610],\n",
       "      dtype=int64)"
      ]
     },
     "execution_count": 244,
     "metadata": {},
     "output_type": "execute_result"
    }
   ],
   "source": [
    "data.battery_mah.unique()"
   ]
  },
  {
   "attachments": {},
   "cell_type": "markdown",
   "metadata": {},
   "source": [
    "*Analysing the processor column*"
   ]
  },
  {
   "cell_type": "code",
   "execution_count": 245,
   "metadata": {},
   "outputs": [],
   "source": [
    "data['Processor'].replace(['1 Year Warranty for Phone and 6 Months Warranty for In-Box Accessories',\n",
    "                              'Brand Warranty of 1 Year',\n",
    "                              'Brand Warranty for 1 Year',\n",
    "                              '1 Year Warranty',\n",
    "                              '12 Months Warranty',\n",
    "                              '1 YEAR ON MOBILE AND 6 MONTHS FOR ACCESORIES',\n",
    "                              '1 Year Manufacturer Warranty for Device and 6 Months Manufacturer Warranty for In-Box',\n",
    "                              '1 Year of Device & 6 Months for In-Box Accessories',\n",
    "                              '1 Year Manufacturer Warranty for Handset and 6 Months Warranty for In the Box Accessories',\n",
    "                              '12 months on phone & 6 months on accessories',\n",
    "                              '12 Months brand Warranty , Domestic Only',\n",
    "                              'One Time Screen Replacement within 100 days of purchase 1 Year warranty on mobile device & 6 months on accessories',\n",
    "                              'One Time Screen Replacement within 100 days of purchase, 1 Year warranty on mobile device & 6 months on accessories.',\n",
    "                              '12 MONTHS', \n",
    "                              '12 Months warranty',\n",
    "                              '12 Months Brand Warranty'], np.nan, inplace=True)"
   ]
  },
  {
   "cell_type": "code",
   "execution_count": 246,
   "metadata": {},
   "outputs": [],
   "source": [
    "data['Processor'].replace(['12 months',\n",
    "                              '12 Months',\n",
    "                              'One Time Screen Replacement within 100 days of purchase 1 Year warranty on mobile device &  6 months on accessories',\n",
    "                              'One Time Screen Replacement within 100 days of purchase, 1 Year warranty on mobile device &  6 months on accessories.',\n",
    "                              '1 Year Manufacturer Warranty for Phone and 6 Months Warranty for in the Box Accessories',\n",
    "                              '1 Year Manufacturer Warranty for Device and 6 Months Manufacturer Warranty for In-Box Accessories',\n",
    "                              '1 Year Manufacturer Warranty for Phone and 6 Months Warranty for In the Box Accessories',\n",
    "                              '1 Year for Handset and 6 Months for Inbox Accessories',\n",
    "                              '\" 1 year manufacturer warranty for device and 6 months manufacturer warranty for in-box accessories including batteries from the date of purchase\"',\n",
    "                              '1 year manufacturer warranty for device and 6 months manufacturer warranty for in-box accessories including batteries from the date of purchase',\n",
    "                              '12Months Brand Warranty',\n",
    "                              '1 Year  Manufacturer Warranty',\n",
    "                              '1 Year Manufacturer Warranty for Phone and 6 Months Warranty for In-Box Accessories',\n",
    "                              '1 Year warranty on mobile device &  6 months on accessories.',\n",
    "                              '1 year manufacturing warranty for mobile and 6 months for box accessories',\n",
    "                              '1 Year',\n",
    "                              ], np.nan, inplace=True)"
   ]
  },
  {
   "cell_type": "code",
   "execution_count": 247,
   "metadata": {},
   "outputs": [
    {
     "data": {
      "text/plain": [
       "array(['Exynos 850 Processor',\n",
       "       'Mediatek Helio A22 Processor, Upto 2.0 GHz Processor',\n",
       "       'Qualcomm Snapdragon 680 Processor', 'MediaTek G37 Processor', nan,\n",
       "       'Qualcomm Snapdragon 750G Processor',\n",
       "       'Mediatek Dimensity 810 Processor', 'Mediatek Helio G85 Processor',\n",
       "       'Unisoc T606 Processor', 'Meditek Helio G37 Processor',\n",
       "       'Qualcomm Snapdragon 695 5G Processor',\n",
       "       'Mediatek Dimensity 700 Processor', 'Mediatek Helio A22 Processor',\n",
       "       'Unisoc Spreadtrum SC9863A1 Processor',\n",
       "       'Mediatek Helio G37 Processor', 'Mediatek Helio P35 Processor',\n",
       "       'UNISOC T700 Processor', 'Google Tensor Processor',\n",
       "       'Unisoc Tiger T616 Processor', 'Unisoc T612 Processor',\n",
       "       'Unisoc T616 Processor', 'Mediatek Helio G95 Processor',\n",
       "       'Mediatek Helio G96 Processor', 'Mediatek Helio G35 Processor',\n",
       "       'Qualcomm Snapdragon 778G Processor',\n",
       "       'Mediatek Helio G99 Processor', 'Dimensity 810 Processor',\n",
       "       'MediaTek Helio G35 Processor',\n",
       "       'Qualcomm Snapdragon 778G 5G Mobile Platform Processor',\n",
       "       'MediaTek Helio G25 Processor', 'MediaTek G35 Processor',\n",
       "       'Mediatek Dimensity 810 5G Processor',\n",
       "       'MediaTek Helio P35 Processor', 'Mediatek Dimensity 920 Processor',\n",
       "       'Unisoc SC9863A/ Unisoc SC9863A1 Processor',\n",
       "       'Unisoc T612 processor Processor',\n",
       "       'MediaTek Dimensity 800U Processor', 'Octa-core Processor',\n",
       "       'Qualcomm Snapdragon 778G+ Processor',\n",
       "       'Qualcomm Snapdragon 662 Processor', 'Unisoc T610 Processor',\n",
       "       'Mediatek Helio G99 Octa Core Processor',\n",
       "       'Mediatek Dimensity 8200 Processor',\n",
       "       'Mediatek Dimensity 1080 5G Processor',\n",
       "       'Mediatek Dimensity 1080 Processor',\n",
       "       'MediaTek Helio G88 Processor',\n",
       "       'Qualcomm Snapdragon 778G Plus Processor',\n",
       "       'Mediatek Helio G95 Octa Core Processor',\n",
       "       'SEC S5E8535 (Exynos 1330) Processor', 'MediaTek P22 Processor',\n",
       "       'Qualcomm Snapdragon 695 Processor',\n",
       "       'MediaTek Helio G85 Processor', 'Mediatek Helio G70 Processor',\n",
       "       'Octa Core Processor', 'Qualcomm Snapdragon 8 Gen 2 Processor',\n",
       "       'Helio G88 Processor', 'Turbo Processor Snapdragon 695 Processor',\n",
       "       'Qualcomm Snapdragon 695 (SM6375) Processor',\n",
       "       'Qualcomm Snapdragon 732G Processor', 'Mediatek G96 Processor',\n",
       "       'Qualcomm Snapdragon 870 Processor',\n",
       "       'Mediatek Dimensity 900 Processor',\n",
       "       'Qualcomm Snapdragon 8 Gen 1 Processor',\n",
       "       'MediaTek Helio G37 Processor', 'MTK Helio G35 Processor',\n",
       "       'Quad Core Processor', 'ARM Cortex A75 Octa Core Processor',\n",
       "       'Unisoc 9863A Processor', 'Mediatek G99 Processor',\n",
       "       'Mediatek MT6769 Helio G70 Processor', 'Ceramic Shield',\n",
       "       'SC9863A Processor', 'Exynos Octa Core Processor',\n",
       "       'MediaTek Dimensity 700 (MT6833) Processor',\n",
       "       'MediaTek Helio G85 (MT6769V/CZ) Processor',\n",
       "       'Qualcomm Snapdragon 888 + Processor',\n",
       "       'MediaTek Helio G96 Processor',\n",
       "       'Qualcomm Snapdragon 680 (SM6225) Processor',\n",
       "       'Unisoc SC9863 Processor', 'MediaTek MT8781 Helio G99 Processor',\n",
       "       'Octa-core(EXYNOS) Processor', 'Unisoc SC9863A Processor',\n",
       "       'MediaTek Helio A20 Processor', 'MediaTek Helio G70 Processor',\n",
       "       'Mediatek Dimensity 1300 Processor',\n",
       "       'Qualcomm SM6225 Snapdragon 680 4G (6 nm) Processor',\n",
       "       'MediaTek Helio G95 Processor', 'Helio A20 Processor',\n",
       "       'Unisoc T618 Processor', 'Qualcomm Snapdragon 439 Processor',\n",
       "       'Helio G25 Processor', 'Google Tensor G2 Processor',\n",
       "       'Qualcomm Snapdragon 888 Plus (SM8350) Processor',\n",
       "       'MediaTek Helio G80 Processor', 'Mediatek Helio G25 Processor',\n",
       "       'Exynos Octa Core Processor Processor',\n",
       "       'Mediatek Helio P22 Processor', '1 year',\n",
       "       'Qualcomm Snapdragon 888 Octa-Core Processor',\n",
       "       'Qualcomm Snapdragon 860 Processor',\n",
       "       'Mediatek Dimensity 1200 Processor',\n",
       "       'Qualcomm Snapdragon 720G Processor', 'UniSoc T610 Processor',\n",
       "       'Mediatek Dimensity 9000 Processor',\n",
       "       'MediaTek Dimensity 700 Processor', 'Mediatek Helio G88 Processor',\n",
       "       'Exynos 1280 Processor', 'MediaTek Dimensity 1200 Processor',\n",
       "       'Helio A22 Processor', 'Mediatek Dimensity 8100 Processor',\n",
       "       'Snapdragon 720G Processor', 'Qualcomm Snapdragon 888 Processor',\n",
       "       'Qualcomm Snapdragon 730G Processor',\n",
       "       'Qualcomm Snapdragon 8+ Gen 1 Processor'], dtype=object)"
      ]
     },
     "execution_count": 247,
     "metadata": {},
     "output_type": "execute_result"
    }
   ],
   "source": [
    "data.Processor.unique()"
   ]
  },
  {
   "cell_type": "code",
   "execution_count": 248,
   "metadata": {},
   "outputs": [
    {
     "data": {
      "text/plain": [
       "(661, 14)"
      ]
     },
     "execution_count": 248,
     "metadata": {},
     "output_type": "execute_result"
    }
   ],
   "source": [
    "data.shape"
   ]
  },
  {
   "cell_type": "code",
   "execution_count": 249,
   "metadata": {},
   "outputs": [],
   "source": [
    "def add_processor_name_column(df):\n",
    "    # Extract the string values before \"Processor\" in the \"Product_Name\" column\n",
    "    processor_names = df[\"Processor\"].str.extract(r\"^(.+)\\sProcessor\")\n",
    "\n",
    "    # Add the \"Processor_name\" column to the DataFrame with the extracted values\n",
    "    df[\"Processor_name\"] = processor_names"
   ]
  },
  {
   "cell_type": "code",
   "execution_count": 250,
   "metadata": {},
   "outputs": [],
   "source": [
    "add_processor_name_column(data)"
   ]
  },
  {
   "cell_type": "code",
   "execution_count": 251,
   "metadata": {},
   "outputs": [
    {
     "data": {
      "text/plain": [
       "156"
      ]
     },
     "execution_count": 251,
     "metadata": {},
     "output_type": "execute_result"
    }
   ],
   "source": [
    "data.Processor_name.isnull().sum()"
   ]
  },
  {
   "cell_type": "code",
   "execution_count": 252,
   "metadata": {},
   "outputs": [],
   "source": [
    "# calculate the mode value of Processor_name\n",
    "mode_value = data['Processor_name'].mode()[0]\n",
    "\n",
    "# fill missing values with mode\n",
    "data['Processor_name'].fillna(mode_value, inplace=True)"
   ]
  },
  {
   "cell_type": "code",
   "execution_count": 253,
   "metadata": {},
   "outputs": [
    {
     "data": {
      "text/plain": [
       "Model             0\n",
       "Stars             0\n",
       "Ram               0\n",
       "Storage           0\n",
       "Expandable        0\n",
       "                 ..\n",
       "Num_Reviews       0\n",
       "display_inches    0\n",
       "Num_camera        0\n",
       "battery_mah       0\n",
       "Processor_name    0\n",
       "Length: 15, dtype: int64"
      ]
     },
     "execution_count": 253,
     "metadata": {},
     "output_type": "execute_result"
    }
   ],
   "source": [
    "data.isnull().sum()"
   ]
  },
  {
   "cell_type": "code",
   "execution_count": 254,
   "metadata": {},
   "outputs": [],
   "source": [
    "data.drop(columns=['Battery','Processor'],inplace=True)"
   ]
  },
  {
   "cell_type": "code",
   "execution_count": 255,
   "metadata": {},
   "outputs": [],
   "source": [
    "# Changing the order of the columns for better understanding\n",
    "\n",
    "data = data[['Model', 'Color', 'Stars', 'Num_Ratings', 'Num_Reviews', 'Ram', 'Storage', 'Expandable', 'Processor_name', 'display_inches', 'Num_camera', 'battery_mah', 'Price']]\n"
   ]
  },
  {
   "cell_type": "code",
   "execution_count": 256,
   "metadata": {},
   "outputs": [],
   "source": [
    "data.reset_index(inplace=True)"
   ]
  },
  {
   "cell_type": "code",
   "execution_count": 257,
   "metadata": {},
   "outputs": [
    {
     "data": {
      "text/plain": [
       "Index(['index', 'Model', 'Color', 'Stars', 'Num_Ratings', 'Num_Reviews', 'Ram',\n",
       "       'Storage', 'Expandable', 'Processor_name', 'display_inches',\n",
       "       'Num_camera', 'battery_mah', 'Price'],\n",
       "      dtype='object')"
      ]
     },
     "execution_count": 257,
     "metadata": {},
     "output_type": "execute_result"
    }
   ],
   "source": [
    "data.columns"
   ]
  },
  {
   "cell_type": "code",
   "execution_count": 258,
   "metadata": {},
   "outputs": [],
   "source": [
    "data.drop(columns=['index'],inplace=True)"
   ]
  },
  {
   "cell_type": "code",
   "execution_count": 259,
   "metadata": {},
   "outputs": [],
   "source": [
    "# create a function to map processor names to categories\n",
    "def map_processor_name(name):\n",
    "    if \"mediatek\" in name.lower():\n",
    "        return \"Mediatek processor\"\n",
    "    elif \"qualcomm\" in name.lower():\n",
    "        return \"Qualcomm processor\"\n",
    "    elif \"unisoc\" in name.lower():\n",
    "        return \"Unisoc processor\"\n",
    "    elif \"exynos\" in name.lower():\n",
    "        return \"Exynos processor\"\n",
    "    elif \"tensor\" in name.lower():\n",
    "        return \"Google Tensor processor\"\n",
    "    elif \"helio\" in name.lower():\n",
    "        return \"Helio processor\"\n",
    "    else:\n",
    "        return \"Other processor\"\n",
    "\n",
    "# apply the function to the processor_name column\n",
    "data['processor_category'] = data['Processor_name'].apply(map_processor_name)"
   ]
  },
  {
   "cell_type": "code",
   "execution_count": 260,
   "metadata": {},
   "outputs": [],
   "source": [
    "# Dropping the Processor column as it is no longer required\n",
    "data.drop(\"Processor_name\",axis=1,inplace=True)"
   ]
  },
  {
   "cell_type": "code",
   "execution_count": 261,
   "metadata": {},
   "outputs": [
    {
     "data": {
      "text/plain": [
       "array(['Exynos processor', 'Mediatek processor', 'Qualcomm processor',\n",
       "       'Unisoc processor', 'Helio processor', 'Google Tensor processor',\n",
       "       'Other processor'], dtype=object)"
      ]
     },
     "execution_count": 261,
     "metadata": {},
     "output_type": "execute_result"
    }
   ],
   "source": [
    "data.processor_category.unique()"
   ]
  },
  {
   "attachments": {},
   "cell_type": "markdown",
   "metadata": {},
   "source": [
    "*Analysing the Colour Column*"
   ]
  },
  {
   "cell_type": "code",
   "execution_count": 262,
   "metadata": {},
   "outputs": [
    {
     "data": {
      "text/plain": [
       "array(['Waterfall Blue', 'Country Green', 'Royal Blue', 'Caribbean Green',\n",
       "       'Pacific Blue', 'Nightsky Green', 'Midnight Black', 'Aurora Green',\n",
       "       'Racing Black', 'Fantasy Purple', 'Luna Blue', 'Sunrise Copper',\n",
       "       'Purple', 'Forest Green', 'Shadow Black', 'White', 'Aqua Blue',\n",
       "       'Yellow', 'Charcoal Grey', 'Baby Blue', 'Copper Blush',\n",
       "       'Metallic White', 'Sunrise Orange', 'Blue', 'Creamy White',\n",
       "       'Exploratory Blue', '7° Purple', 'Meteorite Grey', 'Alpine White',\n",
       "       'Black', 'Laser Blue', 'Power Black', 'Frosted Blue',\n",
       "       'Force Black', 'Origin Blue', 'Aqua Sky', 'Night Black',\n",
       "       'Azure Blue', 'Mineral Gray', 'Cosmic Black', 'Satin Silver',\n",
       "       'Midnight Gray', 'Turquoise Cyan', 'Polar Black', 'Laser Black',\n",
       "       'Jade Purple', 'Cool Blue', 'Carbon Gray', 'Midnight',\n",
       "       'Metaverse Blue', 'Starlight', 'Opal Green', 'Starry Sky',\n",
       "       'Midnight Galaxy', 'Chalk', 'Glowing Black', 'Denim Black',\n",
       "       'Electric Blue', 'Space Blue', 'Gravity Black', 'Pink',\n",
       "       'Glowing Green', 'Deep Ocean Blue', 'Mystique Green',\n",
       "       'Frost White', 'Meterorite Grey', 'Lake Blue', 'Horizon Blue',\n",
       "       'Polar Blue', 'Gold', 'Blaster Green', 'Navy Blue', 'Slate Grey',\n",
       "       'Sea Blue', 'Charcoal Black', 'Charcoal', 'Shadow Gray',\n",
       "       'Night Sea', 'Bamboo Green', 'Sandy Gold', 'Turbo Cyan',\n",
       "       'Lightsaber Green', 'Carbon Black', 'Astral Black', 'Light Blue',\n",
       "       'Arctic Blue', 'Black Dusk', 'Rocking Black', 'Dark Blue',\n",
       "       'Submariner Black', 'Turbo Black', 'Starburst White',\n",
       "       'Metallica Gold', 'Speed Blue', 'Stripe Black', 'Stripe Blue',\n",
       "       'Agate Black', 'Halo White', 'Space Silver', 'Fluid Black',\n",
       "       'Cool Grey', 'Soulful Blue', 'Sapphire Blue', 'Dawn Gold',\n",
       "       'Snowfall', 'Space Black', 'Coral Green', 'Midnight Blue',\n",
       "       'Chrome Silver', 'Thunder Black', 'FLASH BLUE', 'Sunlight Orange',\n",
       "       'Speed Black', 'Wave Green', 'White Lily', 'Silver',\n",
       "       'Metallic Blue', 'Black Engine', 'Rush Black', 'Clash White',\n",
       "       'Noble Black', 'Mint Green', 'Aqua Green', 'Drizzling Gold',\n",
       "       'Hyperspace', 'Tuscany Blue', 'Dark Matter', 'Nebula Blue',\n",
       "       'Blue Tide', 'Emerald Brown', 'Glacier Blue', 'Eco Black',\n",
       "       'Jewel Blue', 'Sporty Orange', 'Mint', 'Starry Black',\n",
       "       'Emarld Brown', 'Icy Blue', 'Diamond Glow', 'Steller Black',\n",
       "       'Prism Black', 'Tech Silver', 'Bronze', 'Cosmic White',\n",
       "       'Slate grey', 'Meteor Grey', 'Sunset Orange', 'Glowing Gold',\n",
       "       'Volcanic Grey', 'Stardust Purple', 'Onyx Black', 'Obsidian Black',\n",
       "       'Light Green', 'Elegant Black', 'Orchid Blue', 'Sunrise Gold',\n",
       "       'Sea Salt White', 'Lumina Blue', 'Matte Black', 'Frosted Green',\n",
       "       'Stellar Green', 'Mystic Night', 'Metaverse Green', 'Onyx',\n",
       "       'Deep Ocean Black', 'Brown', 'Champagne Gold', 'Lavender',\n",
       "       'Mystique Blue', 'Magic Blue', 'Astral White', 'Ocean Blue',\n",
       "       'Rainbow Fantasy', 'Sky Black', 'Stealth Black', 'Raven Black',\n",
       "       'Daylight Green', 'Light Sea Green', 'Cosmic Grey',\n",
       "       'Frosted Champagne', 'Coral Orange', 'Dancing waves',\n",
       "       'Iceberg Blue', 'Twilight Gold', 'Cosmos Blue', 'Infinity Black',\n",
       "       'Orange', 'Starlight Black', 'Dark Nova', 'Sky Cyan',\n",
       "       'Crystal Purple', 'Starry Purple', 'Glowing Blue',\n",
       "       'Heart Of Ocean', 'Polar White', 'Interstellar Black',\n",
       "       'Flash Black', 'Starry Gold', 'Glitter Gold', 'Phantom Black',\n",
       "       'Dawnlight Gold', 'Dark Red', 'Pebble Grey', 'Moonless',\n",
       "       'Rainbow Blue', 'Light Silver', 'Bifrost Blue', 'Dome Blue',\n",
       "       'Sierra Black', 'Stargaze White', 'Meteor Black',\n",
       "       'Supersonic Black', 'Arctic White', 'Green', 'Cross Black',\n",
       "       'Cross Blue', 'Cream', 'Vintage Bronze', 'Cosmic grey',\n",
       "       'Space Purple', 'Flash Blue', 'Olive', 'Prism Blue',\n",
       "       'Atlantic Green', 'PRODUCT)RED', 'Tahiti Blue', 'DEEP GRAY',\n",
       "       'Supersonic Blue', 'Metallic Rose', 'Stardust White',\n",
       "       'Cryolite Blue', 'Multi Green', 'Peach', 'Pink Clay',\n",
       "       'Meadow Green', 'Sunrise Blue', 'Graphite', 'Ocean Wave',\n",
       "       'Blue Flame', 'Black Carbon', 'Silver Wave', 'Green Fantasy',\n",
       "       'Flashy Black', 'Playful Green', 'Copper', 'Stardust Brown',\n",
       "       'Shimmer Black', 'Shimmer Gold', 'Cyber Silver', 'Atlantic Blue',\n",
       "       'Oxygen Blue', 'Metal Grey', 'Chromium White', 'Quetzal Cyan',\n",
       "       'Dynamic Gray', 'Matte Gold', 'Pearl White', 'Geek Blue',\n",
       "       'Metallic Purple', 'Deep Sea Blue', 'Cyber Rage', 'ice silver',\n",
       "       'Hyper Black', 'Nature Green', 'Ravan Black', '?Stardust Brown',\n",
       "       'CHARCOAL BLACK', 'Cyber Black', 'Obsidian', 'Snow', 'Lemongrass',\n",
       "       'Quick Silver', 'Emerald Green', 'Mirror Black',\n",
       "       'Moonlight Shadow', 'Racing Blue', 'Peppy Purple', 'Watery Grey',\n",
       "       'Azure Glow', 'Starry Glow', 'Memphis Green', 'Awesome Gray',\n",
       "       'Hazel', 'Tranquil Sea Blue', 'Magnet Black', 'Awesome Black',\n",
       "       'Dusk Blue', 'Sky Mirror', 'Deep Purple', 'Awesome Blue',\n",
       "       'Sea Green', 'Phantom Blue', 'Grey', 'Awesome Mint',\n",
       "       'Symphony Cyan', 'Iris Purple', 'Blade Silver', 'Luna White',\n",
       "       'Diamond Grey', 'Denim Blue', 'Miracle Black', 'Dark Green',\n",
       "       'Flame Red', 'Graphite Black', 'Mid day dream', 'Sunshine Gold',\n",
       "       'Phantom White', 'Sunburst Gold', 'Mithril Grey',\n",
       "       'Out of the Blue', 'Diamond Dazzle', 'Cosmos Black', 'Sky Blue',\n",
       "       'Urban Blue', 'Haze Green', 'Red', 'Mystic Blue', 'Awesome Peach',\n",
       "       'Tuscany Coral', 'Star blue', 'Hyper Blue', 'Glacier White',\n",
       "       'Predator Black', 'Matte black', 'Ice Blue', 'Solar Gold',\n",
       "       'Green and Greener', 'Steel Blue', 'Nitro Blue',\n",
       "       'Lightning Orange', 'Celestial Silver', 'Cloud Navy', 'Green Wave',\n",
       "       'Starlit Blue', 'Mostly Blue', 'Crystal Violet', 'Racing Silver',\n",
       "       'Topaz Blue', 'Atlantis Blue', 'Dynamo Black'], dtype=object)"
      ]
     },
     "execution_count": 262,
     "metadata": {},
     "output_type": "execute_result"
    }
   ],
   "source": [
    "data.Color.unique()"
   ]
  },
  {
   "cell_type": "code",
   "execution_count": 263,
   "metadata": {},
   "outputs": [],
   "source": [
    "# Grouping the colours into categories for simplicity\n",
    "\n",
    "# Define the group_colors() function\n",
    "def group_colors(color):\n",
    "    if \"blue\" in color.lower() or \"cyan\" in color.lower():\n",
    "        return \"Blue\"\n",
    "    elif \"green\" in color.lower():\n",
    "        return \"Green\"\n",
    "    elif \"black\" in color.lower() or \"charcoal\" in color.lower() or \"obsidian\" in color.lower():\n",
    "        return \"Black\"\n",
    "    elif \"yellow\" in color.lower() or \"gold\" in color.lower():\n",
    "        return \"Yellow\"\n",
    "    elif \"grey\" in color.lower():\n",
    "        return \"Grey\"\n",
    "    elif \"white\" in color.lower():\n",
    "        return \"White\"\n",
    "    elif \"orange\" in color.lower():\n",
    "        return \"Orange\"\n",
    "    elif \"silver\" in color.lower() or \"diamond\" in color.lower():\n",
    "        return \"Silver\"\n",
    "    elif \"red\" in color.lower() or \"pink\" in color.lower():\n",
    "        return \"Red\"\n",
    "    elif \"brown\" in color.lower():\n",
    "        return \"Brown\"\n",
    "    else:\n",
    "        return \"Other\""
   ]
  },
  {
   "cell_type": "code",
   "execution_count": 264,
   "metadata": {},
   "outputs": [],
   "source": [
    "# Apply the group_colors() function on the \"color\" column\n",
    "data[\"color_group\"] = data[\"Color\"].apply(group_colors)"
   ]
  },
  {
   "cell_type": "code",
   "execution_count": 265,
   "metadata": {},
   "outputs": [
    {
     "data": {
      "text/html": [
       "<div>\n",
       "<style scoped>\n",
       "    .dataframe tbody tr th:only-of-type {\n",
       "        vertical-align: middle;\n",
       "    }\n",
       "\n",
       "    .dataframe tbody tr th {\n",
       "        vertical-align: top;\n",
       "    }\n",
       "\n",
       "    .dataframe thead th {\n",
       "        text-align: right;\n",
       "    }\n",
       "</style>\n",
       "<table border=\"1\" class=\"dataframe\">\n",
       "  <thead>\n",
       "    <tr style=\"text-align: right;\">\n",
       "      <th></th>\n",
       "      <th>Model</th>\n",
       "      <th>Color</th>\n",
       "      <th>Stars</th>\n",
       "      <th>Num_Ratings</th>\n",
       "      <th>Num_Reviews</th>\n",
       "      <th>Ram</th>\n",
       "      <th>Storage</th>\n",
       "      <th>Expandable</th>\n",
       "      <th>display_inches</th>\n",
       "      <th>Num_camera</th>\n",
       "      <th>battery_mah</th>\n",
       "      <th>Price</th>\n",
       "      <th>processor_category</th>\n",
       "      <th>color_group</th>\n",
       "    </tr>\n",
       "  </thead>\n",
       "  <tbody>\n",
       "    <tr>\n",
       "      <th>0</th>\n",
       "      <td>SAMSUNG Galaxy F13</td>\n",
       "      <td>Waterfall Blue</td>\n",
       "      <td>4.4</td>\n",
       "      <td>126250</td>\n",
       "      <td>7344</td>\n",
       "      <td>4 GB RAM</td>\n",
       "      <td>64 GB ROM</td>\n",
       "      <td>Expandable Upto 1 TB</td>\n",
       "      <td>16.76</td>\n",
       "      <td>3</td>\n",
       "      <td>6000</td>\n",
       "      <td>9699</td>\n",
       "      <td>Exynos processor</td>\n",
       "      <td>Blue</td>\n",
       "    </tr>\n",
       "    <tr>\n",
       "      <th>1</th>\n",
       "      <td>POCO C50</td>\n",
       "      <td>Country Green</td>\n",
       "      <td>4.4</td>\n",
       "      <td>3204</td>\n",
       "      <td>151</td>\n",
       "      <td>2 GB RAM</td>\n",
       "      <td>32 GB ROM</td>\n",
       "      <td>Expandable Upto 512 GB</td>\n",
       "      <td>16.56</td>\n",
       "      <td>1</td>\n",
       "      <td>5000</td>\n",
       "      <td>5749</td>\n",
       "      <td>Mediatek processor</td>\n",
       "      <td>Green</td>\n",
       "    </tr>\n",
       "    <tr>\n",
       "      <th>2</th>\n",
       "      <td>POCO C50</td>\n",
       "      <td>Royal Blue</td>\n",
       "      <td>4.4</td>\n",
       "      <td>3204</td>\n",
       "      <td>151</td>\n",
       "      <td>2 GB RAM</td>\n",
       "      <td>32 GB ROM</td>\n",
       "      <td>Expandable Upto 512 GB</td>\n",
       "      <td>16.56</td>\n",
       "      <td>1</td>\n",
       "      <td>5000</td>\n",
       "      <td>5749</td>\n",
       "      <td>Mediatek processor</td>\n",
       "      <td>Blue</td>\n",
       "    </tr>\n",
       "    <tr>\n",
       "      <th>3</th>\n",
       "      <td>REDMI 10</td>\n",
       "      <td>Caribbean Green</td>\n",
       "      <td>4.3</td>\n",
       "      <td>193536</td>\n",
       "      <td>12428</td>\n",
       "      <td>4 GB RAM</td>\n",
       "      <td>64 GB ROM</td>\n",
       "      <td>Expandable Upto 1 TB</td>\n",
       "      <td>17.02</td>\n",
       "      <td>2</td>\n",
       "      <td>6000</td>\n",
       "      <td>9299</td>\n",
       "      <td>Qualcomm processor</td>\n",
       "      <td>Green</td>\n",
       "    </tr>\n",
       "    <tr>\n",
       "      <th>4</th>\n",
       "      <td>REDMI 10</td>\n",
       "      <td>Pacific Blue</td>\n",
       "      <td>4.3</td>\n",
       "      <td>193536</td>\n",
       "      <td>12428</td>\n",
       "      <td>4 GB RAM</td>\n",
       "      <td>64 GB ROM</td>\n",
       "      <td>Expandable Upto 1 TB</td>\n",
       "      <td>17.02</td>\n",
       "      <td>2</td>\n",
       "      <td>6000</td>\n",
       "      <td>9299</td>\n",
       "      <td>Qualcomm processor</td>\n",
       "      <td>Blue</td>\n",
       "    </tr>\n",
       "    <tr>\n",
       "      <th>...</th>\n",
       "      <td>...</td>\n",
       "      <td>...</td>\n",
       "      <td>...</td>\n",
       "      <td>...</td>\n",
       "      <td>...</td>\n",
       "      <td>...</td>\n",
       "      <td>...</td>\n",
       "      <td>...</td>\n",
       "      <td>...</td>\n",
       "      <td>...</td>\n",
       "      <td>...</td>\n",
       "      <td>...</td>\n",
       "      <td>...</td>\n",
       "      <td>...</td>\n",
       "    </tr>\n",
       "    <tr>\n",
       "      <th>656</th>\n",
       "      <td>I Kall Z5</td>\n",
       "      <td>Blue</td>\n",
       "      <td>3.0</td>\n",
       "      <td>1760</td>\n",
       "      <td>132</td>\n",
       "      <td>3 GB RAM</td>\n",
       "      <td>16 GB ROM</td>\n",
       "      <td>Expandable Upto 1 TB</td>\n",
       "      <td>13.84</td>\n",
       "      <td>1</td>\n",
       "      <td>3000</td>\n",
       "      <td>4699</td>\n",
       "      <td>Qualcomm processor</td>\n",
       "      <td>Blue</td>\n",
       "    </tr>\n",
       "    <tr>\n",
       "      <th>657</th>\n",
       "      <td>SAMSUNG Galaxy A04e</td>\n",
       "      <td>Light Blue</td>\n",
       "      <td>4.3</td>\n",
       "      <td>19</td>\n",
       "      <td>2</td>\n",
       "      <td>4 GB RAM</td>\n",
       "      <td>128 GB RO</td>\n",
       "      <td>Expandable Upto 1 TB</td>\n",
       "      <td>16.51</td>\n",
       "      <td>2</td>\n",
       "      <td>5000</td>\n",
       "      <td>11499</td>\n",
       "      <td>Mediatek processor</td>\n",
       "      <td>Blue</td>\n",
       "    </tr>\n",
       "    <tr>\n",
       "      <th>658</th>\n",
       "      <td>Infinix Hot 11 2022</td>\n",
       "      <td>Aurora Green</td>\n",
       "      <td>4.2</td>\n",
       "      <td>17231</td>\n",
       "      <td>1402</td>\n",
       "      <td>4 GB RAM</td>\n",
       "      <td>64 GB ROM</td>\n",
       "      <td>Expandable Upto 1 TB</td>\n",
       "      <td>17.02</td>\n",
       "      <td>2</td>\n",
       "      <td>5000</td>\n",
       "      <td>9999</td>\n",
       "      <td>Unisoc processor</td>\n",
       "      <td>Green</td>\n",
       "    </tr>\n",
       "    <tr>\n",
       "      <th>659</th>\n",
       "      <td>APPLE iPhone 14 Plus</td>\n",
       "      <td>Starlight</td>\n",
       "      <td>4.7</td>\n",
       "      <td>4616</td>\n",
       "      <td>346</td>\n",
       "      <td>4 GB RAM</td>\n",
       "      <td>512 GB ROM</td>\n",
       "      <td>Expandable Upto 1 TB</td>\n",
       "      <td>17.02</td>\n",
       "      <td>2</td>\n",
       "      <td>4500</td>\n",
       "      <td>109999</td>\n",
       "      <td>Qualcomm processor</td>\n",
       "      <td>Other</td>\n",
       "    </tr>\n",
       "    <tr>\n",
       "      <th>660</th>\n",
       "      <td>REDMI A1</td>\n",
       "      <td>Light Green</td>\n",
       "      <td>4.3</td>\n",
       "      <td>4641</td>\n",
       "      <td>230</td>\n",
       "      <td>2 GB RAM</td>\n",
       "      <td>32 GB ROM</td>\n",
       "      <td>Expandable Upto 1 TB</td>\n",
       "      <td>16.56</td>\n",
       "      <td>1</td>\n",
       "      <td>5000</td>\n",
       "      <td>6599</td>\n",
       "      <td>Qualcomm processor</td>\n",
       "      <td>Green</td>\n",
       "    </tr>\n",
       "  </tbody>\n",
       "</table>\n",
       "<p>661 rows × 14 columns</p>\n",
       "</div>"
      ],
      "text/plain": [
       "                     Model            Color  Stars  Num_Ratings  Num_Reviews  \\\n",
       "0      SAMSUNG Galaxy F13    Waterfall Blue    4.4       126250         7344   \n",
       "1                POCO C50     Country Green    4.4         3204          151   \n",
       "2                POCO C50        Royal Blue    4.4         3204          151   \n",
       "3                REDMI 10   Caribbean Green    4.3       193536        12428   \n",
       "4                REDMI 10      Pacific Blue    4.3       193536        12428   \n",
       "..                     ...              ...    ...          ...          ...   \n",
       "656             I Kall Z5              Blue    3.0         1760          132   \n",
       "657   SAMSUNG Galaxy A04e        Light Blue    4.3           19            2   \n",
       "658   Infinix Hot 11 2022      Aurora Green    4.2        17231         1402   \n",
       "659  APPLE iPhone 14 Plus         Starlight    4.7         4616          346   \n",
       "660              REDMI A1       Light Green    4.3         4641          230   \n",
       "\n",
       "           Ram     Storage              Expandable display_inches  Num_camera  \\\n",
       "0    4 GB RAM    64 GB ROM    Expandable Upto 1 TB          16.76           3   \n",
       "1    2 GB RAM    32 GB ROM  Expandable Upto 512 GB          16.56           1   \n",
       "2    2 GB RAM    32 GB ROM  Expandable Upto 512 GB          16.56           1   \n",
       "3    4 GB RAM    64 GB ROM    Expandable Upto 1 TB          17.02           2   \n",
       "4    4 GB RAM    64 GB ROM    Expandable Upto 1 TB          17.02           2   \n",
       "..         ...         ...                     ...            ...         ...   \n",
       "656  3 GB RAM    16 GB ROM    Expandable Upto 1 TB          13.84           1   \n",
       "657  4 GB RAM    128 GB RO    Expandable Upto 1 TB          16.51           2   \n",
       "658  4 GB RAM    64 GB ROM    Expandable Upto 1 TB          17.02           2   \n",
       "659  4 GB RAM   512 GB ROM    Expandable Upto 1 TB          17.02           2   \n",
       "660  2 GB RAM    32 GB ROM    Expandable Upto 1 TB          16.56           1   \n",
       "\n",
       "     battery_mah   Price  processor_category color_group  \n",
       "0           6000    9699    Exynos processor        Blue  \n",
       "1           5000    5749  Mediatek processor       Green  \n",
       "2           5000    5749  Mediatek processor        Blue  \n",
       "3           6000    9299  Qualcomm processor       Green  \n",
       "4           6000    9299  Qualcomm processor        Blue  \n",
       "..           ...     ...                 ...         ...  \n",
       "656         3000    4699  Qualcomm processor        Blue  \n",
       "657         5000   11499  Mediatek processor        Blue  \n",
       "658         5000    9999    Unisoc processor       Green  \n",
       "659         4500  109999  Qualcomm processor       Other  \n",
       "660         5000    6599  Qualcomm processor       Green  \n",
       "\n",
       "[661 rows x 14 columns]"
      ]
     },
     "execution_count": 265,
     "metadata": {},
     "output_type": "execute_result"
    }
   ],
   "source": [
    "data"
   ]
  },
  {
   "cell_type": "code",
   "execution_count": 266,
   "metadata": {},
   "outputs": [],
   "source": [
    "# Dropping the Color column as it is not required\n",
    "data.drop(\"Color\",axis=1,inplace=True)"
   ]
  },
  {
   "cell_type": "code",
   "execution_count": 267,
   "metadata": {},
   "outputs": [
    {
     "data": {
      "text/plain": [
       "array(['Blue', 'Green', 'Black', 'Other', 'White', 'Yellow', 'Orange',\n",
       "       'Grey', 'Silver', 'Red', 'Brown'], dtype=object)"
      ]
     },
     "execution_count": 267,
     "metadata": {},
     "output_type": "execute_result"
    }
   ],
   "source": [
    "data.color_group.unique()"
   ]
  },
  {
   "attachments": {},
   "cell_type": "markdown",
   "metadata": {},
   "source": [
    "*Analysing the Model Column*"
   ]
  },
  {
   "cell_type": "code",
   "execution_count": 268,
   "metadata": {},
   "outputs": [
    {
     "data": {
      "text/plain": [
       "array(['SAMSUNG Galaxy F13 ', 'POCO C50 ', 'REDMI 10 ',\n",
       "       'Infinix HOT 20 Play ', 'APPLE iPhone 14 ',\n",
       "       'SAMSUNG Galaxy F23 5G ', 'APPLE iPhone 11 ', 'POCO M4 Pro 5G ',\n",
       "       'MOTOROLA g52 ', 'MOTOROLA g31 ', 'MOTOROLA e13 ',\n",
       "       'Infinix Hot 12 ', 'Infinix NOTE 12i ', 'POCO X4 Pro 5G ',\n",
       "       'POCO M4 5G ', 'MOTOROLA G62 5G ', 'Infinix Smart 6 HD ',\n",
       "       'Infinix SMART 7 ', 'MOTOROLA G32 ', 'MOTOROLA g22 ',\n",
       "       'SAMSUNG Galaxy F04 ', 'MOTOROLA e40 ', 'APPLE iPhone 13 ',\n",
       "       'vivo T1 44W ', 'Google Pixel 6a ', 'realme C35 ',\n",
       "       'Realme C30 - Locked with Airtel Prepaid ', 'Infinix Hot 12 Pro ',\n",
       "       'vivo T1X ', 'SAMSUNG Galaxy M33 5G ', 'REDMI Note 10S ',\n",
       "       'POCO M4 Pro ', 'MOTOROLA g82 5G ', 'OPPO A17 ', 'POCO X5 Pro 5G ',\n",
       "       'MOTOROLA g72 ', 'OPPO A17k ', 'Infinix Hot 20 5G ', 'REDMI 10A ',\n",
       "       'POCO C31 ', 'realme C33 ', 'realme C30 ', 'vivo T1 Pro 5G ',\n",
       "       'REDMI 9i Sport ', 'REDMI A1 ', 'MOTOROLA e32 ',\n",
       "       'OnePlus Nord CE 2 Lite 5G ', 'realme 9i 5G ',\n",
       "       'SAMSUNG Galaxy M04 ', 'Infinix Zero 5G 2023 ', 'POCO C55 ',\n",
       "       'REDMI Note 11 ', 'realme Narzo 50 ', 'realme C30s ', 'vivo Y35 ',\n",
       "       'APPLE iPhone 14 Plus ', 'realme Narzo 50i Prime ',\n",
       "       'OPPO F19 Pro+ 5G ', 'realme C11 2021 ', 'Nothing Phone (1) ',\n",
       "       'vivo Y01 ', 'POCO M5 ', 'REDMI 10 Power ', 'Infinix HOT 20 5G ',\n",
       "       'Infinix Note 12 5G ', 'OPPO F19 ', 'REDMI 11 Prime 5G ',\n",
       "       'realme NARZO 50A PRIME ', 'vivo Y15s ', 'Micromax IN 2C ',\n",
       "       'vivo Y56 5G ', 'realme 10 ', 'vivo V27 Pro 5G ',\n",
       "       'SAMSUNG GALAXY M13 5G ', 'vivo Y16 ', 'realme 10 Pro+ 5G ',\n",
       "       'Infinix Note 12 Pro ', 'REDMI Note 12 Pro 5G ',\n",
       "       'Infinix Note 12 ', 'SAMSUNG Galaxy A03 Core ',\n",
       "       'Infinix Note 12 Pro 5G ', 'OPPO A77s ', 'vivo Y21 ',\n",
       "       'Tecno Pova 3 ', 'MOTOROLA edge 30 ', 'REDMI Note 11 SE ',\n",
       "       'MOTOROLA Edge 30 ', 'OPPO F19s ', 'OPPO K10 5G ',\n",
       "       'REDMI Note 12 Pro+ 5G ', 'SAMSUNG Galaxy A14 5G ', 'vivo Y02 ',\n",
       "       'OPPO Reno8T 5G ', 'realme 10 Pro 5G ', 'Tecno Camon 19 ',\n",
       "       'IQOO Z6 44W ', 'Infinix HOT 12 Play ', 'REDMI Note 12 5G ',\n",
       "       'IQOO Z6 Lite 5G (Without Charger) ',\n",
       "       'SAMSUNG Galaxy M32 Prime Edition ', 'Redmi 9A Sport ',\n",
       "       'vivo Y22 ', 'REDMI Note 11S ', 'I Kall Z19Pro ', 'itel Vision3 ',\n",
       "       'SAMSUNG Galaxy S23 5G ', 'realme C20 ', 'REDMI 9 Activ ',\n",
       "       'REDMI 10 Prime ', 'vivo T1 5G ', 'itel A23S ', 'REDMI K50i 5G ',\n",
       "       'SAMSUNG Galaxy A23 5G ', 'REDMI A1+ ', 'Infinix Smart 6 ',\n",
       "       'MOTOROLA G40 Fusion ', 'vivo Y75 ', 'OPPO F21 Pro ',\n",
       "       'POCO F4 5G ', 'vivo Y100 5G ', 'Motorola Edge 30 Pro ',\n",
       "       'Infinix Zero 5G 2023 TURBO ', 'Tecno Spark 9 ', 'vivo Y21T ',\n",
       "       'oppo A17K ', 'REDMI Note 10T 5G ', 'IQOO Neo 6 5G ', 'itel A49 ',\n",
       "       'SAMSUNG GALAXY M13 ', 'OPPO A78 5G ', 'Micromax IN 2B ',\n",
       "       'itel Vision 3 ', 'SAMSUNG Galaxy A04e ', 'Tecno Spark 8 Pro ',\n",
       "       'realme Narzo 50A Prime ', 'realme 9 Pro 5G ',\n",
       "       'SAMSUNG Galaxy S21 FE 5G ', 'vivo Y33T ', 'Infinix Zero 20 ',\n",
       "       'vivo Y21G ', 'APPLE iPhone 12 ', 'OPPO F21s Pro 5G ',\n",
       "       'realme Narzo 50i ', 'REDMI Note 9 ', 'Infinix Note 12 TURBO ',\n",
       "       'MOTOROLA G60 ', 'OPPO A55 ', 'MOTOROLA g82 5G', 'realme C31 ',\n",
       "       'OPPO A57 ', 'REDMI 9i ', 'OnePlus 10R ', 'realme 9 5G ',\n",
       "       'SAMSUNG Galaxy A13 ', 'realme C21 ',\n",
       "       'SAMSUNG Galaxy S23 Plus 5G ', 'REDMI Note 10 Pro ',\n",
       "       'realme 8 5G ', 'Micromax IN Note 1 ', 'MOTOROLA Edge 30 Fusion ',\n",
       "       'realme 8i ', 'realme 9i ', 'MOTOROLA g42 ', 'APPLE iPhone 14 (',\n",
       "       'MOTOROLA E7 Power ', 'LAVA Z1s ', 'Redmi 10 Prime ',\n",
       "       'REDMI Note 11T 5G ', 'Tecno POVA 4 ', 'SAMSUNG Galaxy A23 ',\n",
       "       'SAMSUNG Galaxy M32 ', 'Nokia C01 Plus ', 'Infinix Smart 5A ',\n",
       "       'OPPO K10 ', 'vivo Y21A ', 'Infinix Hot 11 ',\n",
       "       'APPLE iPhone 14 Plus (', 'REDMI 11 Prime ', 'SAMSUNG Galaxy A04 ',\n",
       "       'OPPO Reno8 5G ', 'realme 8 ', 'Redmi 9 ', 'Tecno Spark Go 2022 ',\n",
       "       'Tecno Spark 8 ', 'realme Narzo 50A ', 'realme C25_Y ',\n",
       "       'realme C21Y ', 'Redmi 7A ', 'Tecno Pova Neo ',\n",
       "       'realme narzo 50 5G ', 'Redmi 9A ', 'realme 9 Pro+ 5G ',\n",
       "       'REDMI 10A SPORT ', 'Google Pixel 7 ', 'realme 50A Prime ',\n",
       "       'REDMI K50i ', 'REDMI Note 11 Pro ', 'SAMSUNG Galaxy M53 5G ',\n",
       "       'realme Narzo 30 ', 'ASUS ROG 5s ', 'realme C25s ',\n",
       "       'realme 9 5G SE ', 'SAMSUNG Galaxy F22 ', 'SAMSUNG Galaxy A73 5G ',\n",
       "       'Google Pixel 7 Pro ', 'Infinix Smart 6 Plus ', 'Tecno Spark 8C ',\n",
       "       'SAMSUNG Galaxy A53 ', 'OPPO A16E ', 'vivo V21 5G ', 'vivo Y53s ',\n",
       "       'APPLE iPhone 14 Pro Max ', 'SAMSUNG Galaxy F12 ',\n",
       "       'SAMSUNG Galaxy Z Flip3 5G ', 'Infinix Note 11s ',\n",
       "       'OPPO F21s Pro ', 'realme Narzo 30 Pro 5G ', 'SAMSUNG Galaxy M13 ',\n",
       "       'realme GT Master Edition ', 'LAVA Z2 ', 'POCO X3 Pro ',\n",
       "       'vivo V23 Pro 5G ', 'APPLE iPhone 14 Pro ', 'realme 9 ',\n",
       "       'POCO M2 Pro ', 'SAMSUNG Galaxy A04s ', 'Tecno Pop 6 Pro ',\n",
       "       'Xiaomi 11Lite NE ', 'Infinix Hot 11 2022 ', 'vivo X80 ',\n",
       "       'POCO M3 Pro 5G ', 'itel Vision3 Turbo ',\n",
       "       'Infinix Note 11s Free Fire Edition ', 'Infinix Hot 11S ',\n",
       "       'vivo Y15c ', 'Infinix Note 11 ', 'SAMSUNG Galaxy A33 ',\n",
       "       'Mi 11 Lite ', 'Redmi Note 11S ', 'REDMI Note 10 lite ',\n",
       "       'POCO F3 GT 5G ', 'Tecno Pop 5 Pro ',\n",
       "       'realme GT Neo 3 (150W - Thor Limited Edition) ', 'realme 6 Pro ',\n",
       "       'Redmi Note 11 PRO Plus 5G ', 'Mi 11X Pro 5G ',\n",
       "       'SAMSUNG Galaxy S20 FE 5G ', 'POCO C3 ', 'POCO M2 Reloaded ',\n",
       "       'OPPO A12 ', 'Infinix Smart HD 2021 ', 'POCO X2 ',\n",
       "       'MOTOROLA Edge 30 Ultra ', 'IQOO Z6 5G ',\n",
       "       'SAMSUNG Galaxy S22 Plus 5G ', 'I Kall Z5 '], dtype=object)"
      ]
     },
     "execution_count": 268,
     "metadata": {},
     "output_type": "execute_result"
    }
   ],
   "source": [
    "data.Model.unique()"
   ]
  },
  {
   "cell_type": "code",
   "execution_count": 269,
   "metadata": {},
   "outputs": [],
   "source": [
    "# use regex to split the first word in the Model column and create two new columns\n",
    "data[['Company', 'model_name']] = data['Model'].str.extract('^(\\S+)\\s(.+)$')"
   ]
  },
  {
   "cell_type": "code",
   "execution_count": 270,
   "metadata": {},
   "outputs": [
    {
     "data": {
      "text/plain": [
       "array(['SAMSUNG', 'POCO', 'REDMI', 'Infinix', 'APPLE', 'MOTOROLA', 'vivo',\n",
       "       'Google', 'realme', 'Realme', 'OPPO', 'OnePlus', 'Nothing',\n",
       "       'Micromax', 'Tecno', 'IQOO', 'Redmi', 'I', 'itel', 'Motorola',\n",
       "       'oppo', 'LAVA', 'Nokia', 'ASUS', 'Xiaomi', 'Mi'], dtype=object)"
      ]
     },
     "execution_count": 270,
     "metadata": {},
     "output_type": "execute_result"
    }
   ],
   "source": [
    "data.Company.unique()"
   ]
  },
  {
   "cell_type": "code",
   "execution_count": 271,
   "metadata": {},
   "outputs": [],
   "source": [
    "data.Company.replace({'I':'Infinix'},inplace=True)"
   ]
  },
  {
   "cell_type": "code",
   "execution_count": 272,
   "metadata": {},
   "outputs": [],
   "source": [
    "# Dropping the Model column as it is no longer required\n",
    "data.drop(columns=[\"Model\"],inplace=True)"
   ]
  },
  {
   "cell_type": "code",
   "execution_count": 273,
   "metadata": {},
   "outputs": [],
   "source": [
    "# Changing the order of the columns after making the changes\n",
    "\n",
    "data = data[[\"Company\",'model_name', 'color_group', 'Stars', 'Num_Ratings', 'Num_Reviews', 'Ram', 'Storage', 'Expandable', 'processor_category', 'display_inches', 'Num_camera', 'battery_mah', 'Price']]\n"
   ]
  },
  {
   "cell_type": "code",
   "execution_count": 274,
   "metadata": {},
   "outputs": [],
   "source": [
    "pd.set_option(\"display.max_rows\",10)"
   ]
  },
  {
   "attachments": {},
   "cell_type": "markdown",
   "metadata": {},
   "source": [
    "*Taking a look at the finalized Dataframe*"
   ]
  },
  {
   "cell_type": "code",
   "execution_count": 278,
   "metadata": {},
   "outputs": [
    {
     "data": {
      "text/html": [
       "<div>\n",
       "<style scoped>\n",
       "    .dataframe tbody tr th:only-of-type {\n",
       "        vertical-align: middle;\n",
       "    }\n",
       "\n",
       "    .dataframe tbody tr th {\n",
       "        vertical-align: top;\n",
       "    }\n",
       "\n",
       "    .dataframe thead th {\n",
       "        text-align: right;\n",
       "    }\n",
       "</style>\n",
       "<table border=\"1\" class=\"dataframe\">\n",
       "  <thead>\n",
       "    <tr style=\"text-align: right;\">\n",
       "      <th></th>\n",
       "      <th>Company</th>\n",
       "      <th>model_name</th>\n",
       "      <th>color_group</th>\n",
       "      <th>Stars</th>\n",
       "      <th>Num_Ratings</th>\n",
       "      <th>Num_Reviews</th>\n",
       "      <th>Ram</th>\n",
       "      <th>Storage</th>\n",
       "      <th>Expandable</th>\n",
       "      <th>processor_category</th>\n",
       "      <th>display_inches</th>\n",
       "      <th>Num_camera</th>\n",
       "      <th>battery_mah</th>\n",
       "      <th>Price</th>\n",
       "    </tr>\n",
       "  </thead>\n",
       "  <tbody>\n",
       "    <tr>\n",
       "      <th>0</th>\n",
       "      <td>SAMSUNG</td>\n",
       "      <td>Galaxy F13</td>\n",
       "      <td>Blue</td>\n",
       "      <td>4.4</td>\n",
       "      <td>126250</td>\n",
       "      <td>7344</td>\n",
       "      <td>4 GB RAM</td>\n",
       "      <td>64 GB ROM</td>\n",
       "      <td>Expandable Upto 1 TB</td>\n",
       "      <td>Exynos processor</td>\n",
       "      <td>16.76</td>\n",
       "      <td>3</td>\n",
       "      <td>6000</td>\n",
       "      <td>9699</td>\n",
       "    </tr>\n",
       "    <tr>\n",
       "      <th>1</th>\n",
       "      <td>POCO</td>\n",
       "      <td>C50</td>\n",
       "      <td>Green</td>\n",
       "      <td>4.4</td>\n",
       "      <td>3204</td>\n",
       "      <td>151</td>\n",
       "      <td>2 GB RAM</td>\n",
       "      <td>32 GB ROM</td>\n",
       "      <td>Expandable Upto 512 GB</td>\n",
       "      <td>Mediatek processor</td>\n",
       "      <td>16.56</td>\n",
       "      <td>1</td>\n",
       "      <td>5000</td>\n",
       "      <td>5749</td>\n",
       "    </tr>\n",
       "    <tr>\n",
       "      <th>2</th>\n",
       "      <td>POCO</td>\n",
       "      <td>C50</td>\n",
       "      <td>Blue</td>\n",
       "      <td>4.4</td>\n",
       "      <td>3204</td>\n",
       "      <td>151</td>\n",
       "      <td>2 GB RAM</td>\n",
       "      <td>32 GB ROM</td>\n",
       "      <td>Expandable Upto 512 GB</td>\n",
       "      <td>Mediatek processor</td>\n",
       "      <td>16.56</td>\n",
       "      <td>1</td>\n",
       "      <td>5000</td>\n",
       "      <td>5749</td>\n",
       "    </tr>\n",
       "    <tr>\n",
       "      <th>3</th>\n",
       "      <td>REDMI</td>\n",
       "      <td>10</td>\n",
       "      <td>Green</td>\n",
       "      <td>4.3</td>\n",
       "      <td>193536</td>\n",
       "      <td>12428</td>\n",
       "      <td>4 GB RAM</td>\n",
       "      <td>64 GB ROM</td>\n",
       "      <td>Expandable Upto 1 TB</td>\n",
       "      <td>Qualcomm processor</td>\n",
       "      <td>17.02</td>\n",
       "      <td>2</td>\n",
       "      <td>6000</td>\n",
       "      <td>9299</td>\n",
       "    </tr>\n",
       "    <tr>\n",
       "      <th>4</th>\n",
       "      <td>REDMI</td>\n",
       "      <td>10</td>\n",
       "      <td>Blue</td>\n",
       "      <td>4.3</td>\n",
       "      <td>193536</td>\n",
       "      <td>12428</td>\n",
       "      <td>4 GB RAM</td>\n",
       "      <td>64 GB ROM</td>\n",
       "      <td>Expandable Upto 1 TB</td>\n",
       "      <td>Qualcomm processor</td>\n",
       "      <td>17.02</td>\n",
       "      <td>2</td>\n",
       "      <td>6000</td>\n",
       "      <td>9299</td>\n",
       "    </tr>\n",
       "  </tbody>\n",
       "</table>\n",
       "</div>"
      ],
      "text/plain": [
       "   Company   model_name color_group  Stars  Num_Ratings  Num_Reviews  \\\n",
       "0  SAMSUNG  Galaxy F13         Blue    4.4       126250         7344   \n",
       "1     POCO         C50        Green    4.4         3204          151   \n",
       "2     POCO         C50         Blue    4.4         3204          151   \n",
       "3    REDMI          10        Green    4.3       193536        12428   \n",
       "4    REDMI          10         Blue    4.3       193536        12428   \n",
       "\n",
       "         Ram    Storage              Expandable  processor_category  \\\n",
       "0  4 GB RAM   64 GB ROM    Expandable Upto 1 TB    Exynos processor   \n",
       "1  2 GB RAM   32 GB ROM  Expandable Upto 512 GB  Mediatek processor   \n",
       "2  2 GB RAM   32 GB ROM  Expandable Upto 512 GB  Mediatek processor   \n",
       "3  4 GB RAM   64 GB ROM    Expandable Upto 1 TB  Qualcomm processor   \n",
       "4  4 GB RAM   64 GB ROM    Expandable Upto 1 TB  Qualcomm processor   \n",
       "\n",
       "  display_inches  Num_camera  battery_mah  Price  \n",
       "0          16.76           3         6000   9699  \n",
       "1          16.56           1         5000   5749  \n",
       "2          16.56           1         5000   5749  \n",
       "3          17.02           2         6000   9299  \n",
       "4          17.02           2         6000   9299  "
      ]
     },
     "execution_count": 278,
     "metadata": {},
     "output_type": "execute_result"
    }
   ],
   "source": [
    "data.head()"
   ]
  },
  {
   "attachments": {},
   "cell_type": "markdown",
   "metadata": {},
   "source": [
    "*Exporting the cleaned datafame in the form of a csv file*"
   ]
  },
  {
   "cell_type": "code",
   "execution_count": 277,
   "metadata": {},
   "outputs": [],
   "source": [
    "data.to_csv('mobile_finaldata.csv', index=False)"
   ]
  },
  {
   "cell_type": "code",
   "execution_count": null,
   "metadata": {},
   "outputs": [],
   "source": []
  }
 ],
 "metadata": {
  "kernelspec": {
   "display_name": "Python 3",
   "language": "python",
   "name": "python3"
  },
  "language_info": {
   "codemirror_mode": {
    "name": "ipython",
    "version": 3
   },
   "file_extension": ".py",
   "mimetype": "text/x-python",
   "name": "python",
   "nbconvert_exporter": "python",
   "pygments_lexer": "ipython3",
   "version": "3.10.11"
  },
  "orig_nbformat": 4
 },
 "nbformat": 4,
 "nbformat_minor": 2
}
